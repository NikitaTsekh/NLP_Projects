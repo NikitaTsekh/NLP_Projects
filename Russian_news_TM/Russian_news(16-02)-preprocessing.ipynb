{
 "cells": [
  {
   "cell_type": "markdown",
   "id": "2948fd2a",
   "metadata": {
    "toc": true
   },
   "source": [
    "<h1>Содержание<span class=\"tocSkip\"></span></h1>\n",
    "<div class=\"toc\"><ul class=\"toc-item\"><li><span><a href=\"#Импорт-библиотек\" data-toc-modified-id=\"Импорт-библиотек-1\"><span class=\"toc-item-num\">1&nbsp;&nbsp;</span>Импорт библиотек</a></span></li><li><span><a href=\"#Подготовка-данных\" data-toc-modified-id=\"Подготовка-данных-2\"><span class=\"toc-item-num\">2&nbsp;&nbsp;</span>Подготовка данных</a></span><ul class=\"toc-item\"><li><ul class=\"toc-item\"><li><ul class=\"toc-item\"><li><span><a href=\"#Загрузка-датасета\" data-toc-modified-id=\"Загрузка-датасета-2.0.0.1\"><span class=\"toc-item-num\">2.0.0.1&nbsp;&nbsp;</span>Загрузка датасета</a></span></li><li><span><a href=\"#Приведение-текстов-к-нижнему-регистру\" data-toc-modified-id=\"Приведение-текстов-к-нижнему-регистру-2.0.0.2\"><span class=\"toc-item-num\">2.0.0.2&nbsp;&nbsp;</span>Приведение текстов к нижнему регистру</a></span></li><li><span><a href=\"#Замена-англицизмов\" data-toc-modified-id=\"Замена-англицизмов-2.0.0.3\"><span class=\"toc-item-num\">2.0.0.3&nbsp;&nbsp;</span>Замена англицизмов</a></span></li><li><span><a href=\"#Замена-числительных\" data-toc-modified-id=\"Замена-числительных-2.0.0.4\"><span class=\"toc-item-num\">2.0.0.4&nbsp;&nbsp;</span>Замена числительных</a></span></li><li><span><a href=\"#Лемматизация\" data-toc-modified-id=\"Лемматизация-2.0.0.5\"><span class=\"toc-item-num\">2.0.0.5&nbsp;&nbsp;</span>Лемматизация</a></span></li><li><span><a href=\"#Подготовка-корпуса\" data-toc-modified-id=\"Подготовка-корпуса-2.0.0.6\"><span class=\"toc-item-num\">2.0.0.6&nbsp;&nbsp;</span>Подготовка корпуса</a></span></li></ul></li></ul></li></ul></li></ul></div>"
   ]
  },
  {
   "cell_type": "markdown",
   "id": "86ddcad8",
   "metadata": {},
   "source": [
    "# Импорт библиотек"
   ]
  },
  {
   "cell_type": "code",
   "execution_count": 1,
   "id": "5ad67e2f",
   "metadata": {},
   "outputs": [],
   "source": [
    "import pandas as pd\n",
    "import re\n",
    "import json\n",
    "import glob\n",
    "from sklearn.feature_extraction.text import CountVectorizer\n",
    "\n",
    "#pickle\n",
    "import pickle\n",
    "\n",
    "#spacy\n",
    "import spacy\n",
    "import nltk\n",
    "from nltk.corpus import stopwords \n",
    "\n",
    "import numpy as np\n",
    "from pymystem3 import Mystem\n",
    "m = Mystem() \n",
    "import matplotlib.pyplot as plt\n",
    "from tqdm import tqdm\n",
    "import plotly.express as px\n",
    "import gensim.corpora as corpora\n",
    "import gensim.models\n",
    "\n",
    "\n",
    "#Gensim\n",
    "import gensim\n",
    "from gensim.utils import simple_preprocess\n",
    "from gensim.corpora import Dictionary\n",
    "from gensim.utils import tokenize\n",
    "from gensim.models import LsiModel\n",
    "from gensim.models.coherencemodel import CoherenceModel\n",
    "\n",
    "#vis\n",
    "import pyLDAvis\n",
    "import pyLDAvis.gensim_models\n",
    "import plotly\n",
    "import plotly.graph_objs as go\n",
    "import plotly.express as px\n",
    "\n",
    "#warnings\n",
    "import warnings\n",
    "warnings.filterwarnings(\"ignore\", category=DeprecationWarning)"
   ]
  },
  {
   "cell_type": "markdown",
   "id": "78eb25ba",
   "metadata": {},
   "source": [
    "# Подготовка данных"
   ]
  },
  {
   "cell_type": "markdown",
   "id": "81c8b884",
   "metadata": {},
   "source": [
    "#### Загрузка датасета"
   ]
  },
  {
   "cell_type": "code",
   "execution_count": 2,
   "id": "ee0bd196",
   "metadata": {},
   "outputs": [],
   "source": [
    "#Прочитаем датасет\n",
    "\n",
    "df1=pd.read_excel(\"datasets/russian_news_data.xlsx\")"
   ]
  },
  {
   "cell_type": "code",
   "execution_count": 3,
   "id": "0e751608",
   "metadata": {},
   "outputs": [
    {
     "data": {
      "text/html": [
       "<div>\n",
       "<style scoped>\n",
       "    .dataframe tbody tr th:only-of-type {\n",
       "        vertical-align: middle;\n",
       "    }\n",
       "\n",
       "    .dataframe tbody tr th {\n",
       "        vertical-align: top;\n",
       "    }\n",
       "\n",
       "    .dataframe thead th {\n",
       "        text-align: right;\n",
       "    }\n",
       "</style>\n",
       "<table border=\"1\" class=\"dataframe\">\n",
       "  <thead>\n",
       "    <tr style=\"text-align: right;\">\n",
       "      <th></th>\n",
       "      <th>ID</th>\n",
       "      <th>DATE</th>\n",
       "      <th>TIME</th>\n",
       "      <th>TITLE</th>\n",
       "    </tr>\n",
       "  </thead>\n",
       "  <tbody>\n",
       "    <tr>\n",
       "      <th>11657</th>\n",
       "      <td>11658</td>\n",
       "      <td>22.01.2022</td>\n",
       "      <td>21:26:04</td>\n",
       "      <td>Минобороны и МИД Германии оказались недовольны...</td>\n",
       "    </tr>\n",
       "    <tr>\n",
       "      <th>17666</th>\n",
       "      <td>17667</td>\n",
       "      <td>07.02.2022</td>\n",
       "      <td>17:13:45</td>\n",
       "      <td>Российские прыгуны с трамплина впервые в истор...</td>\n",
       "    </tr>\n",
       "    <tr>\n",
       "      <th>14639</th>\n",
       "      <td>14640</td>\n",
       "      <td>30.01.2022</td>\n",
       "      <td>18:03:40</td>\n",
       "      <td>«Зенит» объявил о приобретении бразильского на...</td>\n",
       "    </tr>\n",
       "    <tr>\n",
       "      <th>3153</th>\n",
       "      <td>3154</td>\n",
       "      <td>29.12.2021</td>\n",
       "      <td>03:49:10</td>\n",
       "      <td>Новак назвал долгосрочные контракты условием д...</td>\n",
       "    </tr>\n",
       "    <tr>\n",
       "      <th>766</th>\n",
       "      <td>767</td>\n",
       "      <td>21.12.2021</td>\n",
       "      <td>22:50:07</td>\n",
       "      <td>У всех ревакцинированных «Спутником» выявлены ...</td>\n",
       "    </tr>\n",
       "    <tr>\n",
       "      <th>14209</th>\n",
       "      <td>14210</td>\n",
       "      <td>29.01.2022</td>\n",
       "      <td>14:28:00</td>\n",
       "      <td>Астения и головные боли названы самыми частыми...</td>\n",
       "    </tr>\n",
       "    <tr>\n",
       "      <th>4148</th>\n",
       "      <td>4149</td>\n",
       "      <td>01.01.2022</td>\n",
       "      <td>07:49:36</td>\n",
       "      <td>Александр Овечкин забросил 753-ю шайбу в НХЛ</td>\n",
       "    </tr>\n",
       "    <tr>\n",
       "      <th>9885</th>\n",
       "      <td>9886</td>\n",
       "      <td>18.01.2022</td>\n",
       "      <td>04:02:05</td>\n",
       "      <td>Иммунолог Ярцева призвала вакцинироваться, что...</td>\n",
       "    </tr>\n",
       "    <tr>\n",
       "      <th>10273</th>\n",
       "      <td>10274</td>\n",
       "      <td>19.01.2022</td>\n",
       "      <td>05:56:50</td>\n",
       "      <td>Назарбаев заявил, что не покидал Казахстан</td>\n",
       "    </tr>\n",
       "    <tr>\n",
       "      <th>14725</th>\n",
       "      <td>14726</td>\n",
       "      <td>30.01.2022</td>\n",
       "      <td>23:43:45</td>\n",
       "      <td>Байден: освобождение похищенного Фрерихса може...</td>\n",
       "    </tr>\n",
       "    <tr>\n",
       "      <th>18425</th>\n",
       "      <td>18426</td>\n",
       "      <td>09.02.2022</td>\n",
       "      <td>18:36:00</td>\n",
       "      <td>Госпитализированного Жириновского подключили к...</td>\n",
       "    </tr>\n",
       "    <tr>\n",
       "      <th>18198</th>\n",
       "      <td>18199</td>\n",
       "      <td>09.02.2022</td>\n",
       "      <td>03:52:44</td>\n",
       "      <td>Редакция «Царского телевидения»: экспертиза на...</td>\n",
       "    </tr>\n",
       "    <tr>\n",
       "      <th>5204</th>\n",
       "      <td>5205</td>\n",
       "      <td>05.01.2022</td>\n",
       "      <td>07:39:33</td>\n",
       "      <td>В Алматы и на западе Казахстана вводится комен...</td>\n",
       "    </tr>\n",
       "    <tr>\n",
       "      <th>10245</th>\n",
       "      <td>10246</td>\n",
       "      <td>19.01.2022</td>\n",
       "      <td>02:47:39</td>\n",
       "      <td>Волочкова рассказала о скандале в самолете</td>\n",
       "    </tr>\n",
       "    <tr>\n",
       "      <th>19555</th>\n",
       "      <td>19556</td>\n",
       "      <td>12.02.2022</td>\n",
       "      <td>21:46:39</td>\n",
       "      <td>Премьер Венгрии Орбан назвал санкции против Ро...</td>\n",
       "    </tr>\n",
       "    <tr>\n",
       "      <th>3171</th>\n",
       "      <td>3172</td>\n",
       "      <td>29.12.2021</td>\n",
       "      <td>05:41:25</td>\n",
       "      <td>В ВОЗ объяснили затянувшийся процесс признания...</td>\n",
       "    </tr>\n",
       "    <tr>\n",
       "      <th>17461</th>\n",
       "      <td>17462</td>\n",
       "      <td>07.02.2022</td>\n",
       "      <td>04:13:41</td>\n",
       "      <td>Генсек турецкой партии Vatan Перинчек: поставк...</td>\n",
       "    </tr>\n",
       "    <tr>\n",
       "      <th>7105</th>\n",
       "      <td>7106</td>\n",
       "      <td>10.01.2022</td>\n",
       "      <td>10:54:06</td>\n",
       "      <td>Токаев: события в Казахстане в начале января б...</td>\n",
       "    </tr>\n",
       "    <tr>\n",
       "      <th>4180</th>\n",
       "      <td>4181</td>\n",
       "      <td>01.01.2022</td>\n",
       "      <td>10:11:14</td>\n",
       "      <td>Зеленский назвал главной целью окончание войны...</td>\n",
       "    </tr>\n",
       "    <tr>\n",
       "      <th>5552</th>\n",
       "      <td>5553</td>\n",
       "      <td>06.01.2022</td>\n",
       "      <td>04:01:16</td>\n",
       "      <td>СБ ООН пока не планирует обсуждать ракетный за...</td>\n",
       "    </tr>\n",
       "  </tbody>\n",
       "</table>\n",
       "</div>"
      ],
      "text/plain": [
       "          ID        DATE      TIME  \\\n",
       "11657  11658  22.01.2022  21:26:04   \n",
       "17666  17667  07.02.2022  17:13:45   \n",
       "14639  14640  30.01.2022  18:03:40   \n",
       "3153    3154  29.12.2021  03:49:10   \n",
       "766      767  21.12.2021  22:50:07   \n",
       "14209  14210  29.01.2022  14:28:00   \n",
       "4148    4149  01.01.2022  07:49:36   \n",
       "9885    9886  18.01.2022  04:02:05   \n",
       "10273  10274  19.01.2022  05:56:50   \n",
       "14725  14726  30.01.2022  23:43:45   \n",
       "18425  18426  09.02.2022  18:36:00   \n",
       "18198  18199  09.02.2022  03:52:44   \n",
       "5204    5205  05.01.2022  07:39:33   \n",
       "10245  10246  19.01.2022  02:47:39   \n",
       "19555  19556  12.02.2022  21:46:39   \n",
       "3171    3172  29.12.2021  05:41:25   \n",
       "17461  17462  07.02.2022  04:13:41   \n",
       "7105    7106  10.01.2022  10:54:06   \n",
       "4180    4181  01.01.2022  10:11:14   \n",
       "5552    5553  06.01.2022  04:01:16   \n",
       "\n",
       "                                                   TITLE  \n",
       "11657  Минобороны и МИД Германии оказались недовольны...  \n",
       "17666  Российские прыгуны с трамплина впервые в истор...  \n",
       "14639  «Зенит» объявил о приобретении бразильского на...  \n",
       "3153   Новак назвал долгосрочные контракты условием д...  \n",
       "766    У всех ревакцинированных «Спутником» выявлены ...  \n",
       "14209  Астения и головные боли названы самыми частыми...  \n",
       "4148        Александр Овечкин забросил 753-ю шайбу в НХЛ  \n",
       "9885   Иммунолог Ярцева призвала вакцинироваться, что...  \n",
       "10273         Назарбаев заявил, что не покидал Казахстан  \n",
       "14725  Байден: освобождение похищенного Фрерихса може...  \n",
       "18425  Госпитализированного Жириновского подключили к...  \n",
       "18198  Редакция «Царского телевидения»: экспертиза на...  \n",
       "5204   В Алматы и на западе Казахстана вводится комен...  \n",
       "10245         Волочкова рассказала о скандале в самолете  \n",
       "19555  Премьер Венгрии Орбан назвал санкции против Ро...  \n",
       "3171   В ВОЗ объяснили затянувшийся процесс признания...  \n",
       "17461  Генсек турецкой партии Vatan Перинчек: поставк...  \n",
       "7105   Токаев: события в Казахстане в начале января б...  \n",
       "4180   Зеленский назвал главной целью окончание войны...  \n",
       "5552   СБ ООН пока не планирует обсуждать ракетный за...  "
      ]
     },
     "execution_count": 3,
     "metadata": {},
     "output_type": "execute_result"
    }
   ],
   "source": [
    "#Выведем пример датасета\n",
    "df1.sample(20)"
   ]
  },
  {
   "cell_type": "markdown",
   "id": "a6d6c64f",
   "metadata": {},
   "source": [
    "#### Приведение текстов к нижнему регистру"
   ]
  },
  {
   "cell_type": "code",
   "execution_count": 4,
   "id": "3ff0ddaa",
   "metadata": {},
   "outputs": [],
   "source": [
    "df1['TITLE']=df1['TITLE'].str.lower()"
   ]
  },
  {
   "cell_type": "markdown",
   "id": "92a812df",
   "metadata": {},
   "source": [
    "#### Замена англицизмов"
   ]
  },
  {
   "cell_type": "code",
   "execution_count": 5,
   "id": "9277b461",
   "metadata": {
    "scrolled": true
   },
   "outputs": [
    {
     "name": "stdout",
     "output_type": "stream",
     "text": [
      "Wall time: 3.99 ms\n"
     ]
    },
    {
     "data": {
      "text/html": [
       "<div>\n",
       "<style scoped>\n",
       "    .dataframe tbody tr th:only-of-type {\n",
       "        vertical-align: middle;\n",
       "    }\n",
       "\n",
       "    .dataframe tbody tr th {\n",
       "        vertical-align: top;\n",
       "    }\n",
       "\n",
       "    .dataframe thead th {\n",
       "        text-align: right;\n",
       "    }\n",
       "</style>\n",
       "<table border=\"1\" class=\"dataframe\">\n",
       "  <thead>\n",
       "    <tr style=\"text-align: right;\">\n",
       "      <th></th>\n",
       "      <th>english</th>\n",
       "      <th>russian</th>\n",
       "    </tr>\n",
       "  </thead>\n",
       "  <tbody>\n",
       "    <tr>\n",
       "      <th>11</th>\n",
       "      <td>qr</td>\n",
       "      <td>куар</td>\n",
       "    </tr>\n",
       "    <tr>\n",
       "      <th>78</th>\n",
       "      <td>rai al youm</td>\n",
       "      <td>раиалюм</td>\n",
       "    </tr>\n",
       "    <tr>\n",
       "      <th>69</th>\n",
       "      <td>stream</td>\n",
       "      <td>стрим</td>\n",
       "    </tr>\n",
       "    <tr>\n",
       "      <th>60</th>\n",
       "      <td>xiaomi</td>\n",
       "      <td>сяоми</td>\n",
       "    </tr>\n",
       "    <tr>\n",
       "      <th>61</th>\n",
       "      <td>politico</td>\n",
       "      <td>политико</td>\n",
       "    </tr>\n",
       "    <tr>\n",
       "      <th>64</th>\n",
       "      <td>netflix</td>\n",
       "      <td>нетфликс</td>\n",
       "    </tr>\n",
       "    <tr>\n",
       "      <th>67</th>\n",
       "      <td>pfizer</td>\n",
       "      <td>пифайзер</td>\n",
       "    </tr>\n",
       "    <tr>\n",
       "      <th>0</th>\n",
       "      <td>bloomberg</td>\n",
       "      <td>блумберг</td>\n",
       "    </tr>\n",
       "    <tr>\n",
       "      <th>26</th>\n",
       "      <td>comedy club</td>\n",
       "      <td>камеди клаб</td>\n",
       "    </tr>\n",
       "    <tr>\n",
       "      <th>29</th>\n",
       "      <td>forbes</td>\n",
       "      <td>форбс</td>\n",
       "    </tr>\n",
       "  </tbody>\n",
       "</table>\n",
       "</div>"
      ],
      "text/plain": [
       "         english      russian\n",
       "11            qr         куар\n",
       "78   rai al youm      раиалюм\n",
       "69        stream        стрим\n",
       "60        xiaomi        сяоми\n",
       "61      politico     политико\n",
       "64       netflix     нетфликс\n",
       "67        pfizer     пифайзер\n",
       "0      bloomberg     блумберг\n",
       "26   comedy club  камеди клаб\n",
       "29        forbes        форбс"
      ]
     },
     "execution_count": 5,
     "metadata": {},
     "output_type": "execute_result"
    }
   ],
   "source": [
    "%%time\n",
    "df_engl=pd.read_csv(\"datasets\\Anglicisms(13-02-2022).csv\",encoding = 'cp1251',sep=';')\n",
    "df_engl\n",
    "df_engl=df_engl.drop(['Unnamed: 0'], axis=1)\n",
    "df_engl.columns=df_engl.columns.str.lower()\n",
    "df_engl\n",
    "df_engl['english']=df_engl['english'].str.lower()\n",
    "df_engl.sample(10)"
   ]
  },
  {
   "cell_type": "code",
   "execution_count": 6,
   "id": "2d476daa",
   "metadata": {},
   "outputs": [
    {
     "name": "stderr",
     "output_type": "stream",
     "text": [
      "<ipython-input-6-5cdb957739c6>:1: UserWarning: DataFrame columns are not unique, some columns will be omitted.\n",
      "  df_engl_dict=df_engl.set_index('english').T.to_dict('records')\n"
     ]
    }
   ],
   "source": [
    "df_engl_dict=df_engl.set_index('english').T.to_dict('records')"
   ]
  },
  {
   "cell_type": "code",
   "execution_count": 7,
   "id": "6ea2448a",
   "metadata": {
    "scrolled": true
   },
   "outputs": [],
   "source": [
    "df_engl_dict=df_engl_dict[0]"
   ]
  },
  {
   "cell_type": "code",
   "execution_count": 8,
   "id": "46a6298d",
   "metadata": {},
   "outputs": [],
   "source": [
    "def replace_from_dict(str,dict):\n",
    "    for i in (str.split(\" \")):\n",
    "        for j in dict.keys():\n",
    "            if i==j:\n",
    "                #print(i)\n",
    "                str=str.replace(i,dict.get(j))\n",
    "    return str"
   ]
  },
  {
   "cell_type": "code",
   "execution_count": 9,
   "id": "bd095a48",
   "metadata": {},
   "outputs": [
    {
     "data": {
      "text/plain": [
       "'hill сенат сша проголосует по вопросу санкций против северного потока 2 до 14 января'"
      ]
     },
     "execution_count": 9,
     "metadata": {},
     "output_type": "execute_result"
    }
   ],
   "source": [
    "#Очистим текст от лишних символов\n",
    "def clear_text(text):\n",
    "    return \" \".join(re.sub(r'[^a-zA-Zа-яА-я0-9 ]', ' ', text).split())  \n",
    "#Выполним проверку\n",
    "clear_text('hill: сенат сша проголосует по вопросу санкций против «северного потока — 2» до 14 января')"
   ]
  },
  {
   "cell_type": "code",
   "execution_count": 10,
   "id": "8029ea9e",
   "metadata": {},
   "outputs": [],
   "source": [
    "df1['TITLE']=df1['TITLE'].apply(lambda x: clear_text(x))\n",
    "df1['TITLE']=df1['TITLE'].apply(lambda x: replace_from_dict(x,df_engl_dict))"
   ]
  },
  {
   "cell_type": "markdown",
   "id": "d64e0b9c",
   "metadata": {},
   "source": [
    "#### Замена числительных"
   ]
  },
  {
   "cell_type": "code",
   "execution_count": 11,
   "id": "4bb2c4f6",
   "metadata": {
    "scrolled": true
   },
   "outputs": [
    {
     "name": "stdout",
     "output_type": "stream",
     "text": [
      "Wall time: 9.98 ms\n"
     ]
    },
    {
     "data": {
      "text/html": [
       "<div>\n",
       "<style scoped>\n",
       "    .dataframe tbody tr th:only-of-type {\n",
       "        vertical-align: middle;\n",
       "    }\n",
       "\n",
       "    .dataframe tbody tr th {\n",
       "        vertical-align: top;\n",
       "    }\n",
       "\n",
       "    .dataframe thead th {\n",
       "        text-align: right;\n",
       "    }\n",
       "</style>\n",
       "<table border=\"1\" class=\"dataframe\">\n",
       "  <thead>\n",
       "    <tr style=\"text-align: right;\">\n",
       "      <th></th>\n",
       "      <th>number</th>\n",
       "      <th>word</th>\n",
       "    </tr>\n",
       "  </thead>\n",
       "  <tbody>\n",
       "    <tr>\n",
       "      <th>176</th>\n",
       "      <td>1050</td>\n",
       "      <td>тысяча пятьдесят</td>\n",
       "    </tr>\n",
       "    <tr>\n",
       "      <th>66</th>\n",
       "      <td>67</td>\n",
       "      <td>шестьдесят семь</td>\n",
       "    </tr>\n",
       "    <tr>\n",
       "      <th>206</th>\n",
       "      <td>1990</td>\n",
       "      <td>тысяча девятьсот девяносто</td>\n",
       "    </tr>\n",
       "    <tr>\n",
       "      <th>237</th>\n",
       "      <td>2028</td>\n",
       "      <td>две тысячи двадцать восемь</td>\n",
       "    </tr>\n",
       "    <tr>\n",
       "      <th>194</th>\n",
       "      <td>1945</td>\n",
       "      <td>тысяча девятьсот сорок пять</td>\n",
       "    </tr>\n",
       "    <tr>\n",
       "      <th>99</th>\n",
       "      <td>100</td>\n",
       "      <td>сто</td>\n",
       "    </tr>\n",
       "    <tr>\n",
       "      <th>97</th>\n",
       "      <td>98</td>\n",
       "      <td>девяносто восемь</td>\n",
       "    </tr>\n",
       "    <tr>\n",
       "      <th>31</th>\n",
       "      <td>32</td>\n",
       "      <td>тридцать два</td>\n",
       "    </tr>\n",
       "    <tr>\n",
       "      <th>149</th>\n",
       "      <td>150</td>\n",
       "      <td>сто пятьдесят</td>\n",
       "    </tr>\n",
       "    <tr>\n",
       "      <th>174</th>\n",
       "      <td>950</td>\n",
       "      <td>девятьсот пятьдесят</td>\n",
       "    </tr>\n",
       "  </tbody>\n",
       "</table>\n",
       "</div>"
      ],
      "text/plain": [
       "    number                         word\n",
       "176   1050             тысяча пятьдесят\n",
       "66      67              шестьдесят семь\n",
       "206   1990   тысяча девятьсот девяносто\n",
       "237   2028   две тысячи двадцать восемь\n",
       "194   1945  тысяча девятьсот сорок пять\n",
       "99     100                          сто\n",
       "97      98             девяносто восемь\n",
       "31      32                 тридцать два\n",
       "149    150                сто пятьдесят\n",
       "174    950          девятьсот пятьдесят"
      ]
     },
     "execution_count": 11,
     "metadata": {},
     "output_type": "execute_result"
    }
   ],
   "source": [
    "%%time\n",
    "df_numbers=pd.read_csv(\"datasets\\\\Numbers(05-01-2022).csv\",encoding = 'cp1251',sep=';')\n",
    "df_numbers=df_numbers.drop(['Unnamed: 0'], axis=1)\n",
    "df_numbers=df_numbers.dropna()\n",
    "df_numbers.sample(10)"
   ]
  },
  {
   "cell_type": "code",
   "execution_count": 12,
   "id": "0557cf6d",
   "metadata": {},
   "outputs": [
    {
     "name": "stderr",
     "output_type": "stream",
     "text": [
      "<ipython-input-12-4f619f413480>:1: UserWarning: DataFrame columns are not unique, some columns will be omitted.\n",
      "  df_numbers=df_numbers.set_index('number').T.to_dict('records')\n"
     ]
    }
   ],
   "source": [
    "df_numbers=df_numbers.set_index('number').T.to_dict('records')\n",
    "df_numbers_dict=df_numbers[0]"
   ]
  },
  {
   "cell_type": "code",
   "execution_count": 13,
   "id": "241c857e",
   "metadata": {},
   "outputs": [],
   "source": [
    "df1['TITLE']=df1['TITLE'].apply(lambda x: replace_from_dict(x,df_numbers_dict))"
   ]
  },
  {
   "cell_type": "markdown",
   "id": "f407281d",
   "metadata": {},
   "source": [
    "#### Лемматизация"
   ]
  },
  {
   "cell_type": "code",
   "execution_count": 14,
   "id": "757f87f6",
   "metadata": {},
   "outputs": [],
   "source": [
    "#Напишем фукнцию лемматизации\n",
    "def lemmatization(texts):\n",
    "    nlp = spacy.load(\"ru_core_news_sm\")\n",
    "    texts_out = []\n",
    "    for text in tqdm(texts):\n",
    "        doc = nlp(text)\n",
    "        new_text = []\n",
    "        for token in doc:\n",
    "            new_text.append(token.lemma_)\n",
    "        final = \" \".join(new_text)\n",
    "        texts_out.append(final)\n",
    "    return (texts_out)"
   ]
  },
  {
   "cell_type": "code",
   "execution_count": 15,
   "id": "051bc916",
   "metadata": {},
   "outputs": [
    {
     "name": "stderr",
     "output_type": "stream",
     "text": [
      "100%|███████████████████████████████████████████████████████████████████████████| 19576/19576 [02:33<00:00, 127.81it/s]"
     ]
    },
    {
     "name": "stdout",
     "output_type": "stream",
     "text": [
      "['из шахта в кузбассе после авария эвакуировать сто двадцать горняк', 'роспотребнадзор изучать возможность введение штраф за отказ от вакцинация', 'грушко предложение россия по гарантия безопасность не содержать скрытый повестка', 'министр оборона фрг призвать направить санкция против руководство россия', 'карнаухов и маннинен стать хороший игрок матч россия финляндия', 'минобороны показать видео уничтожение боевик в сирия дрон ланцет в два тысяча двадцать год', 'умереть режиссёр фильм мы из будущее андрей малюков', 'мвд объяснить сбой в регистрационный система гибдд затопление серверный помещение', 'кристина резцова завоевать бронза в масс старт на этап кубок мир по биатлон в анси', 'американский сенатор поругаться из за северный поток два']\n",
      "Wall time: 2min 34s\n"
     ]
    },
    {
     "name": "stderr",
     "output_type": "stream",
     "text": [
      "\n"
     ]
    }
   ],
   "source": [
    "%%time\n",
    "lemmatized_texts=lemmatization(df1['TITLE'])\n",
    "print(lemmatized_texts[0:10])"
   ]
  },
  {
   "cell_type": "markdown",
   "id": "ea7eea3b",
   "metadata": {},
   "source": [
    "#### Подготовка корпуса"
   ]
  },
  {
   "cell_type": "code",
   "execution_count": 16,
   "id": "f7bff0d3",
   "metadata": {},
   "outputs": [
    {
     "data": {
      "text/plain": [
       "19576"
      ]
     },
     "execution_count": 16,
     "metadata": {},
     "output_type": "execute_result"
    }
   ],
   "source": [
    "corpus=np.array(lemmatized_texts)\n",
    "len(corpus)"
   ]
  },
  {
   "cell_type": "markdown",
   "id": "d8188a67",
   "metadata": {},
   "source": [
    "Сериалазируем итоговый корпус:"
   ]
  },
  {
   "cell_type": "code",
   "execution_count": 17,
   "id": "9f361ef7",
   "metadata": {},
   "outputs": [],
   "source": [
    "with open(\"corpus_preprocessed.pkl\", \"wb\") as f:\n",
    "    pickle.dump(corpus, f)"
   ]
  },
  {
   "cell_type": "code",
   "execution_count": null,
   "id": "f1f50b51",
   "metadata": {},
   "outputs": [],
   "source": []
  }
 ],
 "metadata": {
  "kernelspec": {
   "display_name": "Python 3",
   "language": "python",
   "name": "python3"
  },
  "language_info": {
   "codemirror_mode": {
    "name": "ipython",
    "version": 3
   },
   "file_extension": ".py",
   "mimetype": "text/x-python",
   "name": "python",
   "nbconvert_exporter": "python",
   "pygments_lexer": "ipython3",
   "version": "3.8.8"
  },
  "toc": {
   "base_numbering": 1,
   "nav_menu": {},
   "number_sections": true,
   "sideBar": true,
   "skip_h1_title": false,
   "title_cell": "Содержание",
   "title_sidebar": "Содержание",
   "toc_cell": true,
   "toc_position": {
    "height": "calc(100% - 180px)",
    "left": "10px",
    "top": "150px",
    "width": "210px"
   },
   "toc_section_display": true,
   "toc_window_display": true
  }
 },
 "nbformat": 4,
 "nbformat_minor": 5
}
