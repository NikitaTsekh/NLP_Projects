{
 "cells": [
  {
   "cell_type": "markdown",
   "id": "2948fd2a",
   "metadata": {
    "toc": true
   },
   "source": [
    "<h1>Содержание<span class=\"tocSkip\"></span></h1>\n",
    "<div class=\"toc\"><ul class=\"toc-item\"><li><span><a href=\"#Импорт-библиотек\" data-toc-modified-id=\"Импорт-библиотек-1\"><span class=\"toc-item-num\">1&nbsp;&nbsp;</span>Импорт библиотек</a></span></li><li><span><a href=\"#Подготовка-данных\" data-toc-modified-id=\"Подготовка-данных-2\"><span class=\"toc-item-num\">2&nbsp;&nbsp;</span>Подготовка данных</a></span><ul class=\"toc-item\"><li><ul class=\"toc-item\"><li><ul class=\"toc-item\"><li><span><a href=\"#Загрузка-датасета\" data-toc-modified-id=\"Загрузка-датасета-2.0.0.1\"><span class=\"toc-item-num\">2.0.0.1&nbsp;&nbsp;</span>Загрузка датасета</a></span></li><li><span><a href=\"#Приведение-текстов-к-нижнему-регистру\" data-toc-modified-id=\"Приведение-текстов-к-нижнему-регистру-2.0.0.2\"><span class=\"toc-item-num\">2.0.0.2&nbsp;&nbsp;</span>Приведение текстов к нижнему регистру</a></span></li><li><span><a href=\"#Замена-англицизмов\" data-toc-modified-id=\"Замена-англицизмов-2.0.0.3\"><span class=\"toc-item-num\">2.0.0.3&nbsp;&nbsp;</span>Замена англицизмов</a></span></li><li><span><a href=\"#Замена-числительных\" data-toc-modified-id=\"Замена-числительных-2.0.0.4\"><span class=\"toc-item-num\">2.0.0.4&nbsp;&nbsp;</span>Замена числительных</a></span></li><li><span><a href=\"#Лемматизация\" data-toc-modified-id=\"Лемматизация-2.0.0.5\"><span class=\"toc-item-num\">2.0.0.5&nbsp;&nbsp;</span>Лемматизация</a></span></li><li><span><a href=\"#Подготовка-корпуса\" data-toc-modified-id=\"Подготовка-корпуса-2.0.0.6\"><span class=\"toc-item-num\">2.0.0.6&nbsp;&nbsp;</span>Подготовка корпуса</a></span></li></ul></li></ul></li></ul></li><li><span><a href=\"#Тематическое-моделирвование\" data-toc-modified-id=\"Тематическое-моделирвование-3\"><span class=\"toc-item-num\">3&nbsp;&nbsp;</span>Тематическое моделирвование</a></span><ul class=\"toc-item\"><li><ul class=\"toc-item\"><li><ul class=\"toc-item\"><li><span><a href=\"#LDA\" data-toc-modified-id=\"LDA-3.0.0.1\"><span class=\"toc-item-num\">3.0.0.1&nbsp;&nbsp;</span>LDA</a></span></li></ul></li></ul></li></ul></li><li><span><a href=\"#Выводы\" data-toc-modified-id=\"Выводы-4\"><span class=\"toc-item-num\">4&nbsp;&nbsp;</span>Выводы</a></span></li></ul></div>"
   ]
  },
  {
   "cell_type": "markdown",
   "id": "86ddcad8",
   "metadata": {},
   "source": [
    "# Импорт библиотек"
   ]
  },
  {
   "cell_type": "code",
   "execution_count": 1,
   "id": "5ad67e2f",
   "metadata": {},
   "outputs": [],
   "source": [
    "import pandas as pd\n",
    "import re\n",
    "import json\n",
    "import glob\n",
    "from sklearn.feature_extraction.text import CountVectorizer\n",
    "\n",
    "#pickle\n",
    "import pickle\n",
    "\n",
    "#spacy\n",
    "import spacy\n",
    "import nltk\n",
    "from nltk.corpus import stopwords \n",
    "\n",
    "import numpy as np\n",
    "from pymystem3 import Mystem\n",
    "m = Mystem() \n",
    "import matplotlib.pyplot as plt\n",
    "from tqdm import tqdm\n",
    "import plotly.express as px\n",
    "import gensim.corpora as corpora\n",
    "import gensim.models\n",
    "\n",
    "\n",
    "#Gensim\n",
    "import gensim\n",
    "from gensim.utils import simple_preprocess\n",
    "from gensim.corpora import Dictionary\n",
    "from gensim.utils import tokenize\n",
    "from gensim.models import LsiModel\n",
    "from gensim.models.coherencemodel import CoherenceModel\n",
    "\n",
    "#vis\n",
    "import pyLDAvis\n",
    "import pyLDAvis.gensim_models\n",
    "import plotly\n",
    "import plotly.graph_objs as go\n",
    "import plotly.express as px\n",
    "\n",
    "#warnings\n",
    "import warnings\n",
    "warnings.filterwarnings(\"ignore\", category=DeprecationWarning)"
   ]
  },
  {
   "cell_type": "markdown",
   "id": "78eb25ba",
   "metadata": {},
   "source": [
    "# Подготовка данных"
   ]
  },
  {
   "cell_type": "markdown",
   "id": "68cc5edf",
   "metadata": {},
   "source": [
    "В данном разделе загрузим тестовый датасет и проведем с ним все те же манипуляции что и с тренировочным."
   ]
  },
  {
   "cell_type": "markdown",
   "id": "81c8b884",
   "metadata": {},
   "source": [
    "#### Загрузка датасета"
   ]
  },
  {
   "cell_type": "code",
   "execution_count": 2,
   "id": "ee0bd196",
   "metadata": {},
   "outputs": [],
   "source": [
    "#Прочитаем тестовый датасет\n",
    "\n",
    "df1=pd.read_excel(\"datasets\\\\test_corpus.xlsx\")"
   ]
  },
  {
   "cell_type": "markdown",
   "id": "61e49809",
   "metadata": {},
   "source": [
    "#### Приведение текстов к нижнему регистру"
   ]
  },
  {
   "cell_type": "code",
   "execution_count": 3,
   "id": "e5851168",
   "metadata": {},
   "outputs": [],
   "source": [
    "df1['TITLE']=df1['TITLE'].str.lower()"
   ]
  },
  {
   "cell_type": "markdown",
   "id": "92a812df",
   "metadata": {},
   "source": [
    "#### Замена англицизмов"
   ]
  },
  {
   "cell_type": "code",
   "execution_count": 4,
   "id": "9277b461",
   "metadata": {
    "scrolled": true
   },
   "outputs": [
    {
     "name": "stdout",
     "output_type": "stream",
     "text": [
      "Wall time: 3.99 ms\n"
     ]
    },
    {
     "data": {
      "text/html": [
       "<div>\n",
       "<style scoped>\n",
       "    .dataframe tbody tr th:only-of-type {\n",
       "        vertical-align: middle;\n",
       "    }\n",
       "\n",
       "    .dataframe tbody tr th {\n",
       "        vertical-align: top;\n",
       "    }\n",
       "\n",
       "    .dataframe thead th {\n",
       "        text-align: right;\n",
       "    }\n",
       "</style>\n",
       "<table border=\"1\" class=\"dataframe\">\n",
       "  <thead>\n",
       "    <tr style=\"text-align: right;\">\n",
       "      <th></th>\n",
       "      <th>english</th>\n",
       "      <th>russian</th>\n",
       "    </tr>\n",
       "  </thead>\n",
       "  <tbody>\n",
       "    <tr>\n",
       "      <th>72</th>\n",
       "      <td>instagram</td>\n",
       "      <td>инстаграм</td>\n",
       "    </tr>\n",
       "    <tr>\n",
       "      <th>38</th>\n",
       "      <td>anadolu</td>\n",
       "      <td>анадолу</td>\n",
       "    </tr>\n",
       "    <tr>\n",
       "      <th>80</th>\n",
       "      <td>wp</td>\n",
       "      <td>вашингтон пост</td>\n",
       "    </tr>\n",
       "    <tr>\n",
       "      <th>4</th>\n",
       "      <td>sun</td>\n",
       "      <td>сан</td>\n",
       "    </tr>\n",
       "    <tr>\n",
       "      <th>70</th>\n",
       "      <td>sputnik</td>\n",
       "      <td>спутник</td>\n",
       "    </tr>\n",
       "    <tr>\n",
       "      <th>36</th>\n",
       "      <td>airbus</td>\n",
       "      <td>эйрбас</td>\n",
       "    </tr>\n",
       "    <tr>\n",
       "      <th>42</th>\n",
       "      <td>bayraktar</td>\n",
       "      <td>байрактар</td>\n",
       "    </tr>\n",
       "    <tr>\n",
       "      <th>21</th>\n",
       "      <td>wbc</td>\n",
       "      <td>вибиси</td>\n",
       "    </tr>\n",
       "    <tr>\n",
       "      <th>31</th>\n",
       "      <td>nyt</td>\n",
       "      <td>нью йорк таймс</td>\n",
       "    </tr>\n",
       "    <tr>\n",
       "      <th>55</th>\n",
       "      <td>gallina</td>\n",
       "      <td>галина</td>\n",
       "    </tr>\n",
       "  </tbody>\n",
       "</table>\n",
       "</div>"
      ],
      "text/plain": [
       "      english         russian\n",
       "72  instagram       инстаграм\n",
       "38    anadolu         анадолу\n",
       "80         wp  вашингтон пост\n",
       "4         sun             сан\n",
       "70    sputnik         спутник\n",
       "36     airbus          эйрбас\n",
       "42  bayraktar       байрактар\n",
       "21        wbc          вибиси\n",
       "31        nyt  нью йорк таймс\n",
       "55    gallina          галина"
      ]
     },
     "execution_count": 4,
     "metadata": {},
     "output_type": "execute_result"
    }
   ],
   "source": [
    "%%time\n",
    "df_engl=pd.read_csv(\"datasets\\\\Anglicisms(13-02-2022).csv\",encoding = 'cp1251',sep=';')\n",
    "df_engl\n",
    "df_engl=df_engl.drop(['Unnamed: 0'], axis=1)\n",
    "df_engl.columns=df_engl.columns.str.lower()\n",
    "df_engl\n",
    "df_engl['english']=df_engl['english'].str.lower()\n",
    "df_engl.sample(10)"
   ]
  },
  {
   "cell_type": "code",
   "execution_count": 5,
   "id": "2d476daa",
   "metadata": {},
   "outputs": [
    {
     "name": "stderr",
     "output_type": "stream",
     "text": [
      "<ipython-input-5-5cdb957739c6>:1: UserWarning: DataFrame columns are not unique, some columns will be omitted.\n",
      "  df_engl_dict=df_engl.set_index('english').T.to_dict('records')\n"
     ]
    }
   ],
   "source": [
    "df_engl_dict=df_engl.set_index('english').T.to_dict('records')"
   ]
  },
  {
   "cell_type": "code",
   "execution_count": 6,
   "id": "6ea2448a",
   "metadata": {
    "scrolled": true
   },
   "outputs": [],
   "source": [
    "df_engl_dict=df_engl_dict[0]"
   ]
  },
  {
   "cell_type": "code",
   "execution_count": 7,
   "id": "46a6298d",
   "metadata": {},
   "outputs": [],
   "source": [
    "def replace_from_dict(str,dict):\n",
    "    for i in (str.split(\" \")):\n",
    "        for j in dict.keys():\n",
    "            if i==j:\n",
    "                #print(i)\n",
    "                str=str.replace(i,dict.get(j))\n",
    "    return str"
   ]
  },
  {
   "cell_type": "code",
   "execution_count": 8,
   "id": "bd095a48",
   "metadata": {},
   "outputs": [
    {
     "data": {
      "text/plain": [
       "'hill сенат сша проголосует по вопросу санкций против северного потока 2 до 14 января'"
      ]
     },
     "execution_count": 8,
     "metadata": {},
     "output_type": "execute_result"
    }
   ],
   "source": [
    "#Очистим текст от лишних символов\n",
    "def clear_text(text):\n",
    "    return \" \".join(re.sub(r'[^a-zA-Zа-яА-я0-9 ]', ' ', text).split())  \n",
    "clear_text('hill: сенат сша проголосует по вопросу санкций против «северного потока — 2» до 14 января')"
   ]
  },
  {
   "cell_type": "code",
   "execution_count": 9,
   "id": "8029ea9e",
   "metadata": {},
   "outputs": [],
   "source": [
    "df1['TITLE']=df1['TITLE'].apply(lambda x: clear_text(x))\n",
    "df1['TITLE']=df1['TITLE'].apply(lambda x: replace_from_dict(x,df_engl_dict))"
   ]
  },
  {
   "cell_type": "markdown",
   "id": "d64e0b9c",
   "metadata": {},
   "source": [
    "#### Замена числительных"
   ]
  },
  {
   "cell_type": "code",
   "execution_count": 10,
   "id": "4bb2c4f6",
   "metadata": {
    "scrolled": true
   },
   "outputs": [
    {
     "name": "stdout",
     "output_type": "stream",
     "text": [
      "Wall time: 11 ms\n"
     ]
    },
    {
     "data": {
      "text/html": [
       "<div>\n",
       "<style scoped>\n",
       "    .dataframe tbody tr th:only-of-type {\n",
       "        vertical-align: middle;\n",
       "    }\n",
       "\n",
       "    .dataframe tbody tr th {\n",
       "        vertical-align: top;\n",
       "    }\n",
       "\n",
       "    .dataframe thead th {\n",
       "        text-align: right;\n",
       "    }\n",
       "</style>\n",
       "<table border=\"1\" class=\"dataframe\">\n",
       "  <thead>\n",
       "    <tr style=\"text-align: right;\">\n",
       "      <th></th>\n",
       "      <th>number</th>\n",
       "      <th>word</th>\n",
       "    </tr>\n",
       "  </thead>\n",
       "  <tbody>\n",
       "    <tr>\n",
       "      <th>217</th>\n",
       "      <td>2008</td>\n",
       "      <td>две тысячи восемь</td>\n",
       "    </tr>\n",
       "    <tr>\n",
       "      <th>90</th>\n",
       "      <td>91</td>\n",
       "      <td>девяносто один</td>\n",
       "    </tr>\n",
       "    <tr>\n",
       "      <th>49</th>\n",
       "      <td>50</td>\n",
       "      <td>пятьдесят</td>\n",
       "    </tr>\n",
       "    <tr>\n",
       "      <th>66</th>\n",
       "      <td>67</td>\n",
       "      <td>шестьдесят семь</td>\n",
       "    </tr>\n",
       "    <tr>\n",
       "      <th>198</th>\n",
       "      <td>1982</td>\n",
       "      <td>тысяча девятьсот восемьдесят два</td>\n",
       "    </tr>\n",
       "    <tr>\n",
       "      <th>155</th>\n",
       "      <td>210</td>\n",
       "      <td>двести десять</td>\n",
       "    </tr>\n",
       "    <tr>\n",
       "      <th>11</th>\n",
       "      <td>12</td>\n",
       "      <td>двенадцать</td>\n",
       "    </tr>\n",
       "    <tr>\n",
       "      <th>65</th>\n",
       "      <td>66</td>\n",
       "      <td>шестьдесят шесть</td>\n",
       "    </tr>\n",
       "    <tr>\n",
       "      <th>82</th>\n",
       "      <td>83</td>\n",
       "      <td>восемьдесят три</td>\n",
       "    </tr>\n",
       "    <tr>\n",
       "      <th>31</th>\n",
       "      <td>32</td>\n",
       "      <td>тридцать два</td>\n",
       "    </tr>\n",
       "  </tbody>\n",
       "</table>\n",
       "</div>"
      ],
      "text/plain": [
       "    number                              word\n",
       "217   2008                 две тысячи восемь\n",
       "90      91                    девяносто один\n",
       "49      50                         пятьдесят\n",
       "66      67                   шестьдесят семь\n",
       "198   1982  тысяча девятьсот восемьдесят два\n",
       "155    210                     двести десять\n",
       "11      12                        двенадцать\n",
       "65      66                  шестьдесят шесть\n",
       "82      83                   восемьдесят три\n",
       "31      32                      тридцать два"
      ]
     },
     "execution_count": 10,
     "metadata": {},
     "output_type": "execute_result"
    }
   ],
   "source": [
    "%%time\n",
    "df_numbers=pd.read_csv(\"datasets\\\\Numbers(05-01-2022).csv\",encoding = 'cp1251',sep=';')\n",
    "df_numbers=df_numbers.drop(['Unnamed: 0'], axis=1)\n",
    "df_numbers=df_numbers.dropna()\n",
    "df_numbers.sample(10)\n"
   ]
  },
  {
   "cell_type": "code",
   "execution_count": 11,
   "id": "0557cf6d",
   "metadata": {},
   "outputs": [
    {
     "name": "stderr",
     "output_type": "stream",
     "text": [
      "<ipython-input-11-4f619f413480>:1: UserWarning: DataFrame columns are not unique, some columns will be omitted.\n",
      "  df_numbers=df_numbers.set_index('number').T.to_dict('records')\n"
     ]
    }
   ],
   "source": [
    "df_numbers=df_numbers.set_index('number').T.to_dict('records')\n",
    "df_numbers_dict=df_numbers[0]"
   ]
  },
  {
   "cell_type": "code",
   "execution_count": 12,
   "id": "241c857e",
   "metadata": {},
   "outputs": [],
   "source": [
    "df1['TITLE']=df1['TITLE'].apply(lambda x: replace_from_dict(x,df_numbers_dict))"
   ]
  },
  {
   "cell_type": "markdown",
   "id": "f407281d",
   "metadata": {},
   "source": [
    "#### Лемматизация"
   ]
  },
  {
   "cell_type": "code",
   "execution_count": 13,
   "id": "757f87f6",
   "metadata": {},
   "outputs": [],
   "source": [
    "#Напишем фукнцию лемматизации\n",
    "def lemmatization(texts):\n",
    "    nlp = spacy.load(\"ru_core_news_sm\")\n",
    "    texts_out = []\n",
    "    for text in tqdm(texts):\n",
    "        doc = nlp(text)\n",
    "        new_text = []\n",
    "        for token in doc:\n",
    "            new_text.append(token.lemma_)\n",
    "        final = \" \".join(new_text)\n",
    "        texts_out.append(final)\n",
    "    return (texts_out)"
   ]
  },
  {
   "cell_type": "code",
   "execution_count": 14,
   "id": "051bc916",
   "metadata": {},
   "outputs": [
    {
     "name": "stderr",
     "output_type": "stream",
     "text": [
      "100%|███████████████████████████████████████████████████████████████████████████████| 230/230 [00:01<00:00, 121.70it/s]"
     ]
    },
    {
     "name": "stdout",
     "output_type": "stream",
     "text": [
      "['президент россия и сша путин и байден более час обсуждать по телефон украина', 'роскосмос показать астероид приближаться к земля', 'представитель мид россия захаров заявить что украина нашпиговать натовский оружие', 'челси в эпоха абрамович выиграть весь турнир в которых принимать участие', 'захаров заявить о нашпигованности украина оружие нато', 'ушаков многие мировой лидер запросить телефонный переговоры с путин из за украина', 'в территориальный вода рф на курилах была обнаружить подводный лодка вмс сша', 'глава днр не исключить связь взрыв с провокация', 'челси победить палмейрас и впервые выиграть клубный чемпионат мир', 'зеленский обсудить с трюдо вопрос о деэскалация']\n",
      "Wall time: 2.96 s\n"
     ]
    },
    {
     "name": "stderr",
     "output_type": "stream",
     "text": [
      "\n"
     ]
    }
   ],
   "source": [
    "%%time\n",
    "lemmatized_texts=lemmatization(df1['TITLE'])\n",
    "#Проверим результат\n",
    "print(lemmatized_texts[0:10])"
   ]
  },
  {
   "cell_type": "markdown",
   "id": "ea7eea3b",
   "metadata": {},
   "source": [
    "#### Подготовка корпуса"
   ]
  },
  {
   "cell_type": "code",
   "execution_count": 15,
   "id": "f7bff0d3",
   "metadata": {},
   "outputs": [
    {
     "name": "stdout",
     "output_type": "stream",
     "text": [
      "Длина корпуса:  230\n"
     ]
    }
   ],
   "source": [
    "corpus=np.array(lemmatized_texts)\n",
    "print(\"Длина корпуса: \",len(corpus))"
   ]
  },
  {
   "cell_type": "code",
   "execution_count": 16,
   "id": "e746d3b3",
   "metadata": {},
   "outputs": [],
   "source": [
    "stop_words = set(stopwords.words('russian')) \n",
    "custom_stopwords = set(['это','весь','яя','ая','га','свой','спрашивать','становиться','отвечать','подходить','уходить','выходить','оставаться','разговор','ехать','приходить'])\n",
    "stop_words.update(custom_stopwords)\n",
    "additional_stopwords= set(['двадцать','глава','тысяча','год'])\n",
    "#additional_stopwords= set(['двадцать','глава','тысяча','год','пять','девятнадцать'])\n",
    "stop_words.update(additional_stopwords)\n"
   ]
  },
  {
   "cell_type": "code",
   "execution_count": 17,
   "id": "7d85f670",
   "metadata": {},
   "outputs": [
    {
     "name": "stdout",
     "output_type": "stream",
     "text": [
      "11576\n"
     ]
    }
   ],
   "source": [
    "with open(\"dictionary.pkl\", \"rb\") as f:\n",
    "    dictionary_train = pickle.load(f)\n",
    "print(len(dictionary_train))"
   ]
  },
  {
   "cell_type": "code",
   "execution_count": 18,
   "id": "7f49af3f",
   "metadata": {
    "scrolled": true
   },
   "outputs": [
    {
     "name": "stdout",
     "output_type": "stream",
     "text": [
      "11576\n"
     ]
    }
   ],
   "source": [
    "#Удалим стоп-слова\n",
    "def remove_stopwords(texts):\n",
    "    return [[word for word in simple_preprocess(str(doc)) if word not in stop_words] for doc in texts]\n",
    "\n",
    "tokenized_texts = [list(tokenize(text.lower()))for text in corpus]\n",
    "tokenized_texts_processed= remove_stopwords(tokenized_texts)\n",
    "#dictionary2= Dictionary(tokenized_texts_processed)\n",
    "#dictionary_train.add_documents(tokenized_texts_processed)\n",
    "\n",
    "corpus_test= [dictionary_train.doc2bow(text) for text in tokenized_texts_processed]\n",
    "#corpus\n",
    "print(len(dictionary_train))"
   ]
  },
  {
   "cell_type": "markdown",
   "id": "75fefb41",
   "metadata": {},
   "source": [
    "Возможно, здесь стоит использовать HashDictionary и hashing trick, так как число слов стало больше. Но опустим этот момент на данном этапе моих знаний и обучения это видится сложновыполнимым и дальнейшие предсказания выглядят валидными."
   ]
  },
  {
   "cell_type": "markdown",
   "id": "204fb5bc",
   "metadata": {},
   "source": [
    "# Тематическое моделирвование"
   ]
  },
  {
   "cell_type": "markdown",
   "id": "8f313be3",
   "metadata": {},
   "source": [
    "#### LDA"
   ]
  },
  {
   "cell_type": "code",
   "execution_count": 19,
   "id": "71f4fa14",
   "metadata": {},
   "outputs": [],
   "source": [
    "#Загрузим предобученную модель\n",
    "with open(\"model_lda_multi_5_topics.pkl\", \"rb\") as f:\n",
    "    lda_model_multi = pickle.load(f)"
   ]
  },
  {
   "cell_type": "code",
   "execution_count": 20,
   "id": "2cbc9157",
   "metadata": {},
   "outputs": [
    {
     "name": "stdout",
     "output_type": "stream",
     "text": [
      "Wall time: 7.72 s\n"
     ]
    }
   ],
   "source": [
    "%%time\n",
    "#Обновим модель на новом корпусе\n",
    "\n",
    "lda_model_multi.update(corpus_test)"
   ]
  },
  {
   "cell_type": "code",
   "execution_count": 21,
   "id": "1792c348",
   "metadata": {},
   "outputs": [
    {
     "name": "stdout",
     "output_type": "stream",
     "text": [
      "Wall time: 996 µs\n"
     ]
    }
   ],
   "source": [
    "%%time\n",
    "vector=lda_model_multi[corpus_test[0]]"
   ]
  },
  {
   "cell_type": "code",
   "execution_count": 22,
   "id": "3de3bde7",
   "metadata": {
    "scrolled": true
   },
   "outputs": [
    {
     "data": {
      "text/plain": [
       "[(0,\n",
       "  '0.032*\"россия\" + 0.025*\"украина\" + 0.025*\"путин\" + 0.023*\"сша\" + 0.022*\"заявить\" + 0.017*\"президент\" + 0.014*\"нато\" + 0.012*\"рада\" + 0.012*\"песков\" + 0.011*\"днр\"'),\n",
       " (1,\n",
       "  '0.027*\"ковид\" + 0.026*\"девятнадцать\" + 0.018*\"коронавирус\" + 0.017*\"россия\" + 0.012*\"омикрон\" + 0.011*\"сутки\" + 0.011*\"заявить\" + 0.011*\"мочь\" + 0.011*\"врач\" + 0.009*\"случай\"'),\n",
       " (2,\n",
       "  '0.067*\"украина\" + 0.046*\"россия\" + 0.037*\"сша\" + 0.017*\"заявить\" + 0.016*\"рф\" + 0.013*\"подлодка\" + 0.013*\"запрет\" + 0.012*\"вторжение\" + 0.012*\"призвать\" + 0.012*\"байден\"'),\n",
       " (3,\n",
       "  '0.026*\"олимпиада\" + 0.023*\"россия\" + 0.019*\"пекин\" + 0.018*\"выиграть\" + 0.015*\"территориальный\" + 0.014*\"вмс\" + 0.012*\"северный\" + 0.011*\"поток\" + 0.011*\"российский\" + 0.010*\"гонка\"'),\n",
       " (4,\n",
       "  '0.024*\"россиянин\" + 0.014*\"алма\" + 0.014*\"казахстан\" + 0.013*\"сын\" + 0.013*\"политолог\" + 0.012*\"мвд\" + 0.011*\"память\" + 0.011*\"завоевать\" + 0.010*\"задержать\" + 0.010*\"мужчина\"')]"
      ]
     },
     "execution_count": 22,
     "metadata": {},
     "output_type": "execute_result"
    }
   ],
   "source": [
    "#Напечатаем топики из заготовленной модели\n",
    "lda_model_multi.print_topics()"
   ]
  },
  {
   "cell_type": "markdown",
   "id": "2622c9ba",
   "metadata": {},
   "source": [
    "Топик 0 - политика внешняя, украинский вопрос<br>\n",
    "Топик 1 - коронавирус, внутренняя политика<br>\n",
    "Топик 2 - политика внешняя. Близко по смыслу к Топику 0 на Intertopic Distance Map<br>\n",
    "Топик 3 - олимпиада, спорт<br>\n",
    "Топик 4 - Казахстан, внутренняя/внешняя политика<br>"
   ]
  },
  {
   "cell_type": "code",
   "execution_count": 23,
   "id": "5670442c",
   "metadata": {},
   "outputs": [],
   "source": [
    "#Напишем функцию для предсказания наиболее вероятного топика\n",
    "def topic_prediction(corpus_for_input):\n",
    "    topics = sorted(list(lda_model_multi[corpus_for_input])[0],key=lambda x:x[1],reverse=True)\n",
    "    return topics[0][0]"
   ]
  },
  {
   "cell_type": "markdown",
   "id": "fe4eba6c",
   "metadata": {},
   "source": [
    "Проверим правильность предсказаний для самых очевидных топиков. <br>\n",
    "Топик 1 - коронавирус"
   ]
  },
  {
   "cell_type": "code",
   "execution_count": 24,
   "id": "d88c663d",
   "metadata": {},
   "outputs": [
    {
     "name": "stdout",
     "output_type": "stream",
     "text": [
      "смольный петербург преодолеть пик пятый волна коронавирус\n",
      "власть петербург заявить о преодоление пик пятый волна коронавирус\n",
      "в комитет по здравоохранение петербург заявить о преодоление пик пятый волна ковид девятнадцать\n",
      "британский пользователь твиттер восхититься картина на фото шойгу и уоллес\n",
      "эксперт заражение омикрон мочь привести к нейроковиду и системный воспаление\n",
      "врач исаев омикрон мочь привести к нейроковиду и системный воспаление\n",
      "в йемен похитить шесть сотрудник оон\n",
      "врач комаровский объяснить что не каждый головной боль являться мигрень\n",
      "врач комаровский назвать бесполезный лекарство в вид таблетка при сильный головной боль\n",
      "врач евгений комаровский заявить что не каждый головной боль являться мигрень\n",
      "в центр днком предупредить о вызвать ковид девятнадцать системный воспаление у ребёнок\n",
      "врач исаев сообщить что коронавирус мочь привести к тяжёлый поражение нервный система\n",
      "иммунолог ярцев посоветовать всегда иметь при себя экспресс тест на ковид девятнадцать\n",
      "риа новость весь желать россиянин смочь уехать с байконур в два тысяча двадцать два год\n",
      "иммунолог ярцев отметить важность самотестирование на ковид девятнадцать\n",
      "роскосмос и ека опубликовать новый фотография марс с аппарат exomars trace gas\n",
      "в россия за сутки выявить почти 198 000 случай коронавирус\n",
      "за сутки в россия госпитализировать двенадцать 653 человек с ковид девятнадцать\n",
      "в россия за сутки госпитализировать двенадцать 653 человек с коронавирус\n",
      "в россия за сутки выявить 197 949 случай коронавирус\n",
      "в россия за сутки выявить девятнадцать7 949 случай ковид девятнадцать госпитализировать двенадцать 653 человек\n",
      "умереть озвучить медвежонок умку актриса маргарита корабельникова\n",
      "умереть актриса дубляжа озвучить медвежонок умку\n",
      "озвучить умку актриса дубляжа корабельникова умереть на девяносто один м год жизнь\n",
      "в германия переизбрать франк вальтер штайнмайера президент\n",
      "президент фрг франк вальтер штайнмайер по итог голосование переизбрать на второй срок\n",
      "президент германия штайнмайер переизбрать на второй срок\n",
      "вирусолог чумак назальный вакцина от ковид мочь быть опасный внутримышечной\n",
      "президент фрг франк вальтер штайнмайер переизбрать на второй срок\n",
      "вирусолог чумаков заявить о возможный опасность назальный вакцина\n"
     ]
    }
   ],
   "source": [
    "#Проверим правильность предсказаний для\n",
    "for i in range(0,len(corpus)):\n",
    "    if (topic_prediction(corpus_test[i]))==1:\n",
    "        print(corpus[i])\n",
    " \n",
    "        "
   ]
  },
  {
   "cell_type": "markdown",
   "id": "acfb1cb2",
   "metadata": {},
   "source": [
    "**Похоже, но не везде.**<br>\n",
    "Топик 3 - олимпиада, спорт"
   ]
  },
  {
   "cell_type": "code",
   "execution_count": 25,
   "id": "70103250",
   "metadata": {},
   "outputs": [
    {
     "name": "stdout",
     "output_type": "stream",
     "text": [
      "челси в эпоха абрамович выиграть весь турнир в которых принимать участие\n",
      "челси победить палмейрас и впервые выиграть клубный чемпионат мир\n",
      "челси выиграть весь возможный трофей после покупка клуб абрамович\n",
      "челси выиграть двадцать один й трофей при абрамовиче\n",
      "челси впервые стать победитель клубный чемпионат мир\n",
      "россия уступить чехия в матч групповой этап олимпиада\n",
      "челси обыграть палмейрас и выиграть клубный чемпионат мир\n",
      "нок украина выступить с масштабный обращение с призыв к мир во время ои два тысяча двадцать два\n",
      "фигуристка валиев получить двадцать шесть й стартовый номер в короткий программа на олимпиада\n",
      "валиева выступить двадцать шесть й в короткий программа на олимпиада в пекин\n",
      "российский кёрлингист обыграть италия на олимпиада два тысяча двадцать два в пекин\n",
      "адесанья победить уиттакера и в четвёртый раз защитить титул ufc в средний вес\n",
      "большунов упрочить преимущество сборная россия в эстафета на ои два тысяча двадцать два до минута\n",
      "мужской сборная россия впервые в новый история выиграть лыжный эстафета на ои\n",
      "норвежский биатлонистка тандреволд стать плохой на финиш пасьюта е унести на рука\n",
      "биатлонистка тандреволд вновь потребоваться помощь после гонка на олимпиада\n",
      "норвежский биатлонистка ройселанн выиграть пасьют на олимпиада нигматуллина одиннадцать я\n",
      "р йселанд выиграть гонка преследование на игра в пекин россиянка нет в топ десять\n",
      "российский биатлонист латыпов завоевать бронза в гонка преследование на олимпиада в пекин\n",
      "тасс подлодка вмс сша у курил обнаружить самолёт ил тридцать восемь и субмарина тихоокеанский флот\n",
      "латыпов принести россия первый в история медаль ои в пасьютах в мужской турнир\n",
      "ивлиев выйти в финал олимпиада в шорт трек на дистанция пятьсот м\n",
      "российский шорт трекист ивлиев завоевать серебро олимпийский игра на дистанция пятьсот метр\n",
      "шорт трекист ивлиев завоевать серебро на дистанция пятьсот метр на олимпиада в пекин\n",
      "биатлонистка тандревольд прийти в сознание после гонка преследование на олимпиада в пекин\n",
      "латыпов выиграть бронза в пасьюте на олимпиада в пекин\n",
      "эксперт литовкин назвать действие фрегат вмф рф против подлодка вмс сша выстрел в воздух\n",
      "валиева выступить на слушание в cas по видеосвязи\n",
      "австрия не намерен отказываться от северный поток два\n",
      "российский биатлонист латыпов завоевать бронза в гонка преследование на игра в пекин\n",
      "россиянин завоевать первый эстафетный олимпийский золото в лыжный гонка за сорок два год\n",
      "камила валиев дать показание на слушание cas по дело о положительный допинг проба\n",
      "конькобежка голиков выиграть бронза олимпийский игра в пекин на дистанция пятьсот метр\n",
      "российский конькобежка голиков завоевать бронза олимпиада в пекин\n"
     ]
    }
   ],
   "source": [
    "#Проверим правильность предсказаний для\n",
    "for i in range(0,len(corpus)):\n",
    "    if (topic_prediction(corpus_test[i]))==3:\n",
    "        print(corpus[i])\n",
    "        "
   ]
  },
  {
   "cell_type": "markdown",
   "id": "718fc37b",
   "metadata": {},
   "source": [
    "**По тематике олимпиады и спорта пресдказания достаточно точные, но есть ошибки тоже**"
   ]
  },
  {
   "cell_type": "markdown",
   "id": "80d6d971",
   "metadata": {},
   "source": [
    "# Выводы"
   ]
  },
  {
   "cell_type": "markdown",
   "id": "7ffe8053",
   "metadata": {},
   "source": [
    "1.Для дальнейшего улучшения тематического моделирования  стоит улучшить предобработку. Стоит работать с числительными, но осторожно: <br>\n",
    "Модель видимо ориентируется на них для предскзания тем по коронавирусу и спорту.<br>\n",
    "2.Стоит изучать инстурменты для урвановешевания классов в датасете - у нас большинство новостей про внешнюю политику.<br>\n",
    "3.Новости о внешней политике, хоть и делятся при помощи LDA на несколько топиков  - для человека слабоотличимы.<br>\n",
    "4.Для обучения, апдейта и инференса мы дожны использовать один и тот же словарь, что не совсем правильно. Верней было бы исполльзовать HashDictionary и hashing trick, что на данном этапе моих знаний видится сложно выполнимым. Возможно эти инстурменты уже используются \"под капотом\" LDA\n"
   ]
  }
 ],
 "metadata": {
  "kernelspec": {
   "display_name": "Python 3",
   "language": "python",
   "name": "python3"
  },
  "language_info": {
   "codemirror_mode": {
    "name": "ipython",
    "version": 3
   },
   "file_extension": ".py",
   "mimetype": "text/x-python",
   "name": "python",
   "nbconvert_exporter": "python",
   "pygments_lexer": "ipython3",
   "version": "3.8.8"
  },
  "toc": {
   "base_numbering": 1,
   "nav_menu": {},
   "number_sections": true,
   "sideBar": true,
   "skip_h1_title": false,
   "title_cell": "Содержание",
   "title_sidebar": "Содержание",
   "toc_cell": true,
   "toc_position": {
    "height": "calc(100% - 180px)",
    "left": "10px",
    "top": "150px",
    "width": "512px"
   },
   "toc_section_display": true,
   "toc_window_display": true
  }
 },
 "nbformat": 4,
 "nbformat_minor": 5
}
