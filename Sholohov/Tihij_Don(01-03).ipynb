{
 "cells": [
  {
   "cell_type": "markdown",
   "id": "f3ff4dcf",
   "metadata": {
    "toc": true
   },
   "source": [
    "<h1>Содержание<span class=\"tocSkip\"></span></h1>\n",
    "<div class=\"toc\"><ul class=\"toc-item\"><li><span><a href=\"#Импорты\" data-toc-modified-id=\"Импорты-1\"><span class=\"toc-item-num\">1&nbsp;&nbsp;</span>Импорты</a></span></li><li><span><a href=\"#ПОСТРОИМ-ГРАФИК-РАСПРЕДЕЛЕНИЯС-СЛОВ-ПО-ЧАСТОТНОСТИ\" data-toc-modified-id=\"ПОСТРОИМ-ГРАФИК-РАСПРЕДЕЛЕНИЯС-СЛОВ-ПО-ЧАСТОТНОСТИ-2\"><span class=\"toc-item-num\">2&nbsp;&nbsp;</span>ПОСТРОИМ ГРАФИК РАСПРЕДЕЛЕНИЯС СЛОВ ПО ЧАСТОТНОСТИ</a></span><ul class=\"toc-item\"><li><span><a href=\"#Отдельные-слова-(без-разделения-на-PoS)\" data-toc-modified-id=\"Отдельные-слова-(без-разделения-на-PoS)-2.1\"><span class=\"toc-item-num\">2.1&nbsp;&nbsp;</span>Отдельные слова (без разделения на PoS)</a></span></li><li><span><a href=\"#Биграммы\" data-toc-modified-id=\"Биграммы-2.2\"><span class=\"toc-item-num\">2.2&nbsp;&nbsp;</span>Биграммы</a></span></li><li><span><a href=\"#Триграммы\" data-toc-modified-id=\"Триграммы-2.3\"><span class=\"toc-item-num\">2.3&nbsp;&nbsp;</span>Триграммы</a></span></li><li><span><a href=\"#Четыреграммы\" data-toc-modified-id=\"Четыреграммы-2.4\"><span class=\"toc-item-num\">2.4&nbsp;&nbsp;</span>Четыреграммы</a></span></li></ul></li><li><span><a href=\"#Entities-(географические-регионы)\" data-toc-modified-id=\"Entities-(географические-регионы)-3\"><span class=\"toc-item-num\">3&nbsp;&nbsp;</span>Entities (географические регионы)</a></span></li><li><span><a href=\"#Части-речи-(PoS)\" data-toc-modified-id=\"Части-речи-(PoS)-4\"><span class=\"toc-item-num\">4&nbsp;&nbsp;</span>Части речи (PoS)</a></span></li><li><span><a href=\"#Выводы\" data-toc-modified-id=\"Выводы-5\"><span class=\"toc-item-num\">5&nbsp;&nbsp;</span>Выводы</a></span></li></ul></div>"
   ]
  },
  {
   "cell_type": "markdown",
   "id": "473ff743",
   "metadata": {},
   "source": [
    "#### Импорты"
   ]
  },
  {
   "cell_type": "code",
   "execution_count": 1,
   "id": "5ad67e2f",
   "metadata": {},
   "outputs": [],
   "source": [
    "import spacy\n",
    "import pandas as pd\n",
    "import re\n",
    "from sklearn.feature_extraction.text import CountVectorizer\n",
    "from nltk.corpus import stopwords \n",
    "import nltk\n",
    "import numpy as np\n",
    "from pymystem3 import Mystem\n",
    "m = Mystem() \n",
    "import matplotlib.pyplot as plt\n",
    "import docx\n",
    "from tqdm import tqdm\n",
    "import plotly.express as px\n",
    "from spacy.lang.ru.examples import sentences \n",
    "nlp = spacy.load(\"ru_core_news_sm\")\n",
    "from spacy.lang.ru.examples import sentences \n",
    "from collections import Counter\n",
    "import seaborn as sns"
   ]
  },
  {
   "cell_type": "markdown",
   "id": "ea7eea3b",
   "metadata": {},
   "source": [
    "#### ПОСТРОИМ ГРАФИК РАСПРЕДЕЛЕНИЯС СЛОВ ПО ЧАСТОТНОСТИ"
   ]
  },
  {
   "cell_type": "markdown",
   "id": "cb46095d",
   "metadata": {},
   "source": [
    "Загрузим заранее лемматизированный и очищенный корпус текстов"
   ]
  },
  {
   "cell_type": "code",
   "execution_count": 2,
   "id": "be472359",
   "metadata": {},
   "outputs": [
    {
     "data": {
      "text/plain": [
       "18982"
      ]
     },
     "execution_count": 2,
     "metadata": {},
     "output_type": "execute_result"
    }
   ],
   "source": [
    "corpus_df=pd.read_csv(\"C:\\\\Users\\\\Admin\\\\Python+ DS Practice\\\\Яндекс Новости\\\\df_tihij_don.csv\",encoding = 'cp1251',sep=',', error_bad_lines=False)\n",
    "#В конце текста идут сноски, не будем их брать\n",
    "corpus_df=corpus_df.loc[0:19719]\n",
    "#Удалим пропуски\n",
    "corpus_df=corpus_df.dropna()\n",
    "len(corpus_df)"
   ]
  },
  {
   "cell_type": "code",
   "execution_count": 3,
   "id": "e5af390c",
   "metadata": {},
   "outputs": [
    {
     "data": {
      "text/plain": [
       "(18982,)"
      ]
     },
     "execution_count": 3,
     "metadata": {},
     "output_type": "execute_result"
    }
   ],
   "source": [
    "#Переведем корпус в np.array\n",
    "corpus=corpus_df.values.astype('U')\n",
    "corpus=corpus.reshape(18982,)\n",
    "corpus.shape"
   ]
  },
  {
   "cell_type": "code",
   "execution_count": 4,
   "id": "b8aae2cb",
   "metadata": {},
   "outputs": [
    {
     "name": "stdout",
     "output_type": "stream",
     "text": [
      "151\n",
      "16\n",
      "167\n"
     ]
    }
   ],
   "source": [
    "stop_words = set(stopwords.words('russian'))\n",
    "print(len(stop_words))\n",
    "#Добавим в стоп слова слова полученные эмпирическим путем\n",
    "custom_stopwords = set(['это','весь','яя','ая','га','свой','спрашивать','становиться','отвечать','подходить','уходить','выходить','оставаться','разговор','ехать','приходить'])\n",
    "print(len(custom_stopwords))\n",
    "stop_words.update(custom_stopwords)\n",
    "#Проверим результат обновления множества\n",
    "print(len(stop_words))\n"
   ]
  },
  {
   "cell_type": "code",
   "execution_count": 5,
   "id": "d9e8d967",
   "metadata": {},
   "outputs": [],
   "source": [
    "#Добавим имена главныъ героев в словарь.\n",
    "main_characters = set(['григорий','аксинья','пантелей','прокофиевич','иван','алексеевич','мирон','григорьевич','сергей','платонович','гришак','пантелевич','кошевой','мишка','мелехов','прохор','зыков','митька','коршунов','сашка','степан','астахов','наталья','петро','ильинична','дуняшка','бунчук','фомин','дарья','листницкий'])"
   ]
  },
  {
   "cell_type": "code",
   "execution_count": 6,
   "id": "26e2a0a6",
   "metadata": {},
   "outputs": [],
   "source": [
    "#В данной работе главные герои нас не интересуют, уберем их\n",
    "stop_words.update(main_characters)"
   ]
  },
  {
   "cell_type": "code",
   "execution_count": 7,
   "id": "6e851f2a",
   "metadata": {},
   "outputs": [],
   "source": [
    "#стоп слова из интернета вопрос спроный. Например убирая слово \"ваше\", мы теряем фразу \"ваше благородие\", т.е. часть авторского стиля. \n",
    "# В дальнейшем можно вернуться к этому моменту\n",
    "stopwords_from_internet_1=set([\"c\",\"а\",\"алло\",\"без\",\"белый\",\"близко\",\"более\",\"больше\",\"большой\",\"будем\",\"будет\",\"будете\",\"будешь\",\"будто\",\"буду\",\"будут\",\"будь\",\"бы\",\"бывает\",\"бывь\",\"был\",\"была\",\"были\",\"было\",\"быть\",\"в\",\"важная\",\"важное\",\"важные\",\"важный\",\"вам\",\"вами\",\"вас\",\"ваш\",\"ваша\",\"ваше\",\"ваши\",\"вверх\",\"вдали\",\"вдруг\",\"ведь\",\"везде\",\"вернуться\",\"весь\",\"вечер\",\"взгляд\",\"взять\",\"вид\",\"видел\",\"видеть\",\"вместе\",\"вне\",\"вниз\",\"внизу\",\"во\",\"вода\",\"война\",\"вокруг\",\"вон\",\"вообще\",\"вопрос\",\"восемнадцатый\",\"восемнадцать\",\"восемь\",\"восьмой\",\"вот\",\"впрочем\",\"времени\",\"время\",\"все\",\"все еще\",\"всегда\",\"всего\",\"всем\",\"всеми\",\"всему\",\"всех\",\"всею\",\"всю\",\"всюду\",\"вся\",\"всё\",\"второй\",\"вы\",\"выйти\",\"г\",\"где\",\"главный\",\"глаз\",\"говорил\",\"говорит\",\"говорить\",\"год\",\"года\",\"году\",\"голова\",\"голос\",\"город\",\"да\",\"давать\",\"давно\",\"даже\",\"далекий\",\"далеко\",\"дальше\",\"даром\",\"дать\",\"два\",\"двадцатый\",\"двадцать\",\"две\",\"двенадцатый\",\"двенадцать\",\"дверь\",\"двух\",\"девятнадцатый\",\"девятнадцать\",\"девятый\",\"девять\",\"действительно\",\"дел\",\"делал\",\"делать\",\"делаю\",\"дело\",\"день\",\"деньги\",\"десятый\",\"десять\",\"для\",\"до\",\"довольно\",\"долго\",\"должен\",\"должно\",\"должный\",\"дом\",\"дорога\",\"друг\",\"другая\",\"другие\",\"других\",\"друго\",\"другое\",\"другой\",\"думать\",\"душа\",\"е\",\"его\",\"ее\",\"ей\",\"ему\",\"если\",\"есть\",\"еще\",\"ещё\",\"ею\",\"её\",\"ж\",\"ждать\",\"же\",\"жена\",\"женщина\",\"жизнь\",\"жить\",\"за\",\"занят\",\"занята\",\"занято\",\"заняты\",\"затем\",\"зато\",\"зачем\",\"здесь\",\"земля\",\"знать\",\"значит\",\"значить\",\"и\",\"иди\",\"идти\",\"из\",\"или\",\"им\",\"имеет\",\"имел\",\"именно\",\"иметь\",\"ими\",\"имя\",\"иногда\",\"их\",\"к\",\"каждая\",\"каждое\",\"каждые\",\"каждый\",\"кажется\",\"казаться\",\"как\",\"какая\",\"какой\",\"кем\",\"книга\",\"когда\",\"кого\",\"ком\",\"комната\",\"кому\",\"конец\",\"конечно\",\"которая\",\"которого\",\"которой\",\"которые\",\"который\",\"которых\",\"кроме\",\"кругом\",\"кто\",\"куда\",\"лежать\",\"лет\",\"ли\",\"лицо\",\"лишь\",\"лучше\",\"любить\",\"люди\",\"м\",\"маленький\",\"мало\",\"мать\",\"машина\",\"между\",\"меля\",\"менее\",\"меньше\",\"меня\",\"место\",\"миллионов\",\"мимо\",\"минута\",\"мир\",\"мира\",\"мне\",\"много\",\"многочисленная\",\"многочисленное\",\"многочисленные\",\"многочисленный\",\"мной\",\"мною\",\"мог\",\"могу\",\"могут\",\"мож\",\"может\",\"может быть\",\"можно\",\"можхо\",\"мои\",\"мой\",\"мор\",\"мочь\",\"моя\",\"моё\",\"мы\",\"на\",\"наверху\",\"над\",\"надо\",\"назад\",\"наиболее\",\"найти\",\"наконец\",\"нам\",\"нами\",\"народ\",\"нас\",\"начала\",\"начать\",\"наш\",\"наша\",\"наше\",\"наши\",\"не\",\"него\",\"недавно\",\"недалеко\",\"нее\",\"ней\",\"некоторый\",\"нельзя\",\"нем\",\"немного\",\"нему\",\"непрерывно\",\"нередко\",\"несколько\",\"нет\",\"нею\",\"неё\",\"ни\",\"нибудь\",\"ниже\",\"низко\",\"никакой\",\"никогда\",\"никто\",\"никуда\",\"ним\",\"ними\",\"них\",\"ничего\",\"ничто\",\"но\",\"новый\",\"нога\",\"ночь\",\"ну\",\"нужно\",\"нужный\",\"нх\",\"о\",\"об\",\"оба\",\"обычно\",\"один\",\"одиннадцатый\",\"одиннадцать\",\"однажды\",\"однако\",\"одного\",\"одной\",\"оказаться\",\"окно\",\"около\",\"он\",\"она\",\"они\",\"оно\",\"опять\",\"особенно\",\"остаться\",\"от\",\"ответить\",\"отец\",\"откуда\",\"отовсюду\",\"отсюда\",\"очень\",\"первый\",\"перед\",\"писать\",\"плечо\",\"по\",\"под\",\"подойди\",\"подумать\",\"пожалуйста\",\"позже\",\"пойти\",\"пока\",\"пол\",\"получить\",\"помнить\",\"понимать\",\"понять\",\"пор\",\"пора\",\"после\",\"последний\",\"посмотреть\",\"посреди\",\"потом\",\"потому\",\"почему\",\"почти\",\"правда\",\"прекрасно\",\"при\",\"про\",\"просто\",\"против\",\"процентов\",\"путь\",\"пятнадцатый\",\"пятнадцать\",\"пятый\",\"пять\",\"работа\",\"работать\",\"раз\",\"разве\",\"рано\",\"раньше\",\"ребенок\",\"решить\",\"россия\",\"рука\",\"русский\",\"ряд\",\"рядом\",\"с\",\"с кем\",\"сам\",\"сама\",\"сами\",\"самим\",\"самими\",\"самих\",\"само\",\"самого\",\"самой\",\"самом\",\"самому\",\"саму\",\"самый\",\"свет\",\"свое\",\"своего\",\"своей\",\"свои\",\"своих\",\"свой\",\"свою\",\"сделать\",\"сеаой\",\"себе\",\"себя\",\"сегодня\",\"седьмой\",\"сейчас\",\"семнадцатый\",\"семнадцать\",\"семь\",\"сидеть\",\"сила\",\"сих\",\"сказал\",\"сказала\",\"сказать\",\"сколько\",\"слишком\",\"слово\",\"случай\",\"смотреть\",\"сначала\",\"снова\",\"со\",\"собой\",\"собою\",\"советский\",\"совсем\",\"спасибо\",\"спросить\",\"сразу\",\"стал\",\"старый\",\"стать\",\"стол\",\"сторона\",\"стоять\",\"страна\",\"суть\",\"считать\",\"т\",\"та\",\"так\",\"такая\",\"также\",\"таки\",\"такие\",\"такое\",\"такой\",\"там\",\"твои\",\"твой\",\"твоя\",\"твоё\",\"те\",\"тебе\",\"тебя\",\"тем\",\"теми\",\"теперь\",\"тех\",\"то\",\"тобой\",\"тобою\",\"товарищ\",\"тогда\",\"того\",\"тоже\",\"только\",\"том\",\"тому\",\"тот\",\"тою\",\"третий\",\"три\",\"тринадцатый\",\"тринадцать\",\"ту\",\"туда\",\"тут\",\"ты\",\"тысяч\",\"у\",\"увидеть\",\"уж\",\"уже\",\"улица\",\"уметь\",\"утро\",\"хороший\",\"хорошо\",\"хотел бы\",\"хотеть\",\"хоть\",\"хотя\",\"хочешь\",\"час\",\"часто\",\"часть\",\"чаще\",\"чего\",\"человек\",\"чем\",\"чему\",\"через\",\"четвертый\",\"четыре\",\"четырнадцатый\",\"четырнадцать\",\"что\",\"чтоб\",\"чтобы\",\"чуть\",\"шестнадцатый\",\"шестнадцать\",\"шестой\",\"шесть\",\"эта\",\"эти\",\"этим\",\"этими\",\"этих\",\"это\",\"этого\",\"этой\",\"этом\",\"этому\",\"этот\",\"эту\",\"я\",\"являюсь\"])\n",
    "stop_words.update(stopwords_from_internet_1)"
   ]
  },
  {
   "cell_type": "markdown",
   "id": "643f938f",
   "metadata": {},
   "source": [
    "##### Отдельные слова (без разделения на PoS)"
   ]
  },
  {
   "cell_type": "code",
   "execution_count": 8,
   "id": "e746d3b3",
   "metadata": {},
   "outputs": [
    {
     "name": "stderr",
     "output_type": "stream",
     "text": [
      "C:\\Users\\Admin\\anaconda3\\lib\\site-packages\\sklearn\\feature_extraction\\text.py:388: UserWarning: Your stop_words may be inconsistent with your preprocessing. Tokenizing the stop words generated tokens ['хотел'] not in stop_words.\n",
      "  warnings.warn('Your stop_words may be inconsistent with '\n"
     ]
    },
    {
     "name": "stdout",
     "output_type": "stream",
     "text": [
      "Размер мешка без учёта стоп-слов: (18982, 26062)\n"
     ]
    }
   ],
   "source": [
    "count_vect = CountVectorizer(stop_words=stop_words) \n",
    "bow = count_vect.fit_transform(corpus) \n",
    "\n",
    "print(\"Размер мешка без учёта стоп-слов:\", bow.shape)"
   ]
  },
  {
   "cell_type": "code",
   "execution_count": 9,
   "id": "5bfc1fa3",
   "metadata": {},
   "outputs": [],
   "source": [
    "word_list=count_vect.get_feature_names() \n",
    "count_list = bow.toarray().sum(axis=0)"
   ]
  },
  {
   "cell_type": "code",
   "execution_count": 10,
   "id": "cee6aded",
   "metadata": {
    "scrolled": true
   },
   "outputs": [],
   "source": [
    "x = dict(zip(word_list,count_list))\n",
    "{k: v for k, v in sorted(x.items(), key=lambda item: item[1],reverse=True)}\n",
    "g={k: v for k, v in sorted(x.items(), key=lambda item: item[1],reverse=True)}\n",
    "result_series = pd.Series(g)"
   ]
  },
  {
   "cell_type": "code",
   "execution_count": 11,
   "id": "0d98a8f1",
   "metadata": {},
   "outputs": [
    {
     "data": {
      "text/plain": [
       "казак        1823\n",
       "хутор         828\n",
       "конь          799\n",
       "лошадь        670\n",
       "дон           596\n",
       "полк          579\n",
       "красный       553\n",
       "сотня         525\n",
       "улыбаться     509\n",
       "офицер        478\n",
       "глядеть       475\n",
       "старик        468\n",
       "черный        439\n",
       "станица       398\n",
       "губа          362\n",
       "баба          347\n",
       "ветер         329\n",
       "казачий       321\n",
       "зараз         317\n",
       "фронт         313\n",
       "командир      308\n",
       "возле         298\n",
       "подымать      296\n",
       "крикнуть      295\n",
       "спина         292\n",
       "палец         282\n",
       "кровь         281\n",
       "молодой       276\n",
       "бог           272\n",
       "двор          270\n",
       "dtype: int64"
      ]
     },
     "execution_count": 11,
     "metadata": {},
     "output_type": "execute_result"
    }
   ],
   "source": [
    "result_series[0:30]"
   ]
  },
  {
   "cell_type": "code",
   "execution_count": 12,
   "id": "70209345",
   "metadata": {},
   "outputs": [
    {
     "data": {
      "image/png": "[encoded data removed]",
      "text/plain": [
       "<Figure size 1080x576 with 1 Axes>"
      ]
     },
     "metadata": {
      "needs_background": "light"
     },
     "output_type": "display_data"
    }
   ],
   "source": [
    "plt.figure(figsize=(15,8))\n",
    "sns.barplot(x=result_series[0:20].index, y=result_series[0:20].values,color='blue')\n",
    "plt.title(\"Частотность слов\")\n",
    "plt.show()"
   ]
  },
  {
   "cell_type": "markdown",
   "id": "80a4a9b6",
   "metadata": {},
   "source": [
    "##### Биграммы"
   ]
  },
  {
   "cell_type": "code",
   "execution_count": 13,
   "id": "b80a7577",
   "metadata": {},
   "outputs": [
    {
     "name": "stderr",
     "output_type": "stream",
     "text": [
      "C:\\Users\\Admin\\anaconda3\\lib\\site-packages\\sklearn\\feature_extraction\\text.py:388: UserWarning: Your stop_words may be inconsistent with your preprocessing. Tokenizing the stop words generated tokens ['хотел'] not in stop_words.\n",
      "  warnings.warn('Your stop_words may be inconsistent with '\n"
     ]
    },
    {
     "name": "stdout",
     "output_type": "stream",
     "text": [
      "Размер мешка без учёта стоп-слов: (18982, 185263)\n",
      "Wall time: 39.3 s\n"
     ]
    }
   ],
   "source": [
    "%%time\n",
    "count_vect = CountVectorizer(ngram_range=(2, 2),stop_words=stop_words)\n",
    "#n_gramm = count_vect.fit_transform(corpus)\n",
    "bow = count_vect.fit_transform(corpus) \n",
    "print(\"Размер мешка без учёта стоп-слов:\", bow.shape)\n",
    "#print(word_list)\n",
    "#print(count_list)\n",
    "word_list=count_vect.get_feature_names() \n",
    "count_list = bow.toarray().sum(axis=0)\n",
    "#print(word_list)\n",
    "#print(count_list)\n",
    "#print(dict(zip(word_list,count_list)))\n"
   ]
  },
  {
   "cell_type": "code",
   "execution_count": 14,
   "id": "bd1259a0",
   "metadata": {
    "scrolled": true
   },
   "outputs": [],
   "source": [
    "x = dict(zip(word_list,count_list))\n",
    "{k: v for k, v in sorted(x.items(), key=lambda item: item[1],reverse=True)}\n",
    "big={k: v for k, v in sorted(x.items(), key=lambda item: item[1],reverse=True)}\n",
    "result_series_bigram = pd.Series(big)\n",
    "#result_series_bigram"
   ]
  },
  {
   "cell_type": "code",
   "execution_count": 15,
   "id": "488f69c6",
   "metadata": {},
   "outputs": [
    {
     "data": {
      "text/plain": [
       "усть хоперский             51\n",
       "красный армия              49\n",
       "сукин сын                  49\n",
       "командир полк              47\n",
       "командир сотня             46\n",
       "добровольческий армия      41\n",
       "слава бог                  40\n",
       "донской армия              35\n",
       "войско донской             32\n",
       "тихий дон                  32\n",
       "военный революционный      30\n",
       "го полк                    30\n",
       "прижимать грудь            30\n",
       "ради христос               30\n",
       "усть медведицкий           30\n",
       "революционный комитет      28\n",
       "временный правительство    26\n",
       "войсковой старшина         25\n",
       "навес сарай                25\n",
       "хутор татарский            25\n",
       "казачий полк               24\n",
       "начальник штаб             24\n",
       "стискивать зуб             24\n",
       "живой здоровый             23\n",
       "молодой казак              23\n",
       "конский копыто             22\n",
       "походный порядок           22\n",
       "штаб дивизия               22\n",
       "взводный офицер            21\n",
       "сердобский полк            21\n",
       "войсковой правительство    20\n",
       "господин офицер            20\n",
       "мокрый пот                 20\n",
       "правый фланг               20\n",
       "царство небесный           20\n",
       "атаманский полк            19\n",
       "левый фланг                19\n",
       "сотня казак                19\n",
       "спасать христос            19\n",
       "усть медведица             19\n",
       "dtype: int64"
      ]
     },
     "execution_count": 15,
     "metadata": {},
     "output_type": "execute_result"
    }
   ],
   "source": [
    "result_series_bigram[0:40]"
   ]
  },
  {
   "cell_type": "code",
   "execution_count": 46,
   "id": "157f59ad",
   "metadata": {
    "scrolled": true
   },
   "outputs": [
    {
     "data": {
      "image/png": "[encoded data removed]",
      "text/plain": [
       "<Figure size 1080x576 with 1 Axes>"
      ]
     },
     "metadata": {
      "needs_background": "light"
     },
     "output_type": "display_data"
    }
   ],
   "source": [
    "plt.figure(figsize=(15,8))\n",
    "sns.barplot(y=result_series_bigram[0:20].index, x=result_series_bigram[0:20].values,color='blue')\n",
    "plt.title(\"Частотность биграмм\")\n",
    "plt.show()"
   ]
  },
  {
   "cell_type": "markdown",
   "id": "b89fa1e8",
   "metadata": {},
   "source": [
    "#####  Триграммы"
   ]
  },
  {
   "cell_type": "code",
   "execution_count": 17,
   "id": "605e4bd9",
   "metadata": {
    "scrolled": true
   },
   "outputs": [
    {
     "name": "stderr",
     "output_type": "stream",
     "text": [
      "C:\\Users\\Admin\\anaconda3\\lib\\site-packages\\sklearn\\feature_extraction\\text.py:388: UserWarning: Your stop_words may be inconsistent with your preprocessing. Tokenizing the stop words generated tokens ['хотел'] not in stop_words.\n",
      "  warnings.warn('Your stop_words may be inconsistent with '\n"
     ]
    },
    {
     "name": "stdout",
     "output_type": "stream",
     "text": [
      "Размер мешка без учёта стоп-слов: (18982, 188925)\n"
     ]
    }
   ],
   "source": [
    "count_vect = CountVectorizer(ngram_range=(3, 3),stop_words=stop_words) \n",
    "bow = count_vect.fit_transform(corpus) \n",
    "print(\"Размер мешка без учёта стоп-слов:\", bow.shape)\n",
    "word_list=count_vect.get_feature_names() \n",
    "count_list = bow.toarray().sum(axis=0)\n",
    "#print(dict(zip(word_list,count_list)))\n",
    "x = dict(zip(word_list,count_list))\n",
    "{k: v for k, v in sorted(x.items(), key=lambda item: item[1],reverse=True)}\n",
    "trig={k: v for k, v in sorted(x.items(), key=lambda item: item[1],reverse=True)}\n",
    "result_series_trig = pd.Series(trig)\n",
    "#result_series_trig"
   ]
  },
  {
   "cell_type": "code",
   "execution_count": 18,
   "id": "11e41649",
   "metadata": {},
   "outputs": [
    {
     "data": {
      "text/plain": [
       "военный революционный комитет    28\n",
       "всевеликий войско донской        12\n",
       "военный полевой суд              11\n",
       "лейб гвардия атаманский          11\n",
       "гвардия атаманский полк           9\n",
       "донской казачий полк              8\n",
       "усть медведицкий округ            8\n",
       "усть хоперский станица            8\n",
       "безрукий алешка шамиль            7\n",
       "казачий военный революционный     7\n",
       "совет союз казачий                7\n",
       "союз казачий войско               7\n",
       "12 го полк                        6\n",
       "44 го полк                        6\n",
       "запах конский пот                 6\n",
       "dtype: int64"
      ]
     },
     "execution_count": 18,
     "metadata": {},
     "output_type": "execute_result"
    }
   ],
   "source": [
    "result_series_trig[0:15]"
   ]
  },
  {
   "cell_type": "code",
   "execution_count": 47,
   "id": "f464acf1",
   "metadata": {},
   "outputs": [
    {
     "data": {
      "image/png": "[encoded data removed]",
      "text/plain": [
       "<Figure size 1080x576 with 1 Axes>"
      ]
     },
     "metadata": {
      "needs_background": "light"
     },
     "output_type": "display_data"
    }
   ],
   "source": [
    "plt.figure(figsize=(15,8))\n",
    "sns.barplot(y=result_series_trig[0:15].index, x=result_series_trig[0:15].values,color='blue')\n",
    "plt.title(\"Частотность триграмм\")\n",
    "plt.show()"
   ]
  },
  {
   "cell_type": "markdown",
   "id": "257fd597",
   "metadata": {},
   "source": [
    "##### Четыреграммы"
   ]
  },
  {
   "cell_type": "code",
   "execution_count": 20,
   "id": "305cb315",
   "metadata": {
    "scrolled": true
   },
   "outputs": [
    {
     "name": "stderr",
     "output_type": "stream",
     "text": [
      "C:\\Users\\Admin\\anaconda3\\lib\\site-packages\\sklearn\\feature_extraction\\text.py:388: UserWarning: Your stop_words may be inconsistent with your preprocessing. Tokenizing the stop words generated tokens ['хотел'] not in stop_words.\n",
      "  warnings.warn('Your stop_words may be inconsistent with '\n"
     ]
    },
    {
     "name": "stdout",
     "output_type": "stream",
     "text": [
      "Размер мешка без учёта стоп-слов: (18982, 175944)\n"
     ]
    },
    {
     "data": {
      "text/plain": [
       "лейб гвардия атаманский полк                9\n",
       "казачий военный революционный комитет       7\n",
       "совет союз казачий войско                   7\n",
       "делегат 44 го полк                          4\n",
       "командующий донской армия генерал           4\n",
       "                                           ..\n",
       "ящик патрон снаряд направлять               1\n",
       "ящик покурить утыкаться сено                1\n",
       "ящик пособлять лошадь подъем                1\n",
       "ящик преимущественно казак бывший           1\n",
       "ящик проезжать всматриваться привязывать    1\n",
       "Length: 175944, dtype: int64"
      ]
     },
     "execution_count": 20,
     "metadata": {},
     "output_type": "execute_result"
    }
   ],
   "source": [
    "count_vect = CountVectorizer(ngram_range=(4, 4),stop_words=stop_words) \n",
    "bow = count_vect.fit_transform(corpus) \n",
    "print(\"Размер мешка без учёта стоп-слов:\", bow.shape)\n",
    "word_list=count_vect.get_feature_names() \n",
    "count_list = bow.toarray().sum(axis=0)\n",
    "x = dict(zip(word_list,count_list))\n",
    "{k: v for k, v in sorted(x.items(), key=lambda item: item[1],reverse=True)}\n",
    "fourg={k: v for k, v in sorted(x.items(), key=lambda item: item[1],reverse=True)}\n",
    "result_series_fourg = pd.Series(fourg)\n",
    "result_series_fourg"
   ]
  },
  {
   "cell_type": "code",
   "execution_count": 48,
   "id": "df2d2cf5",
   "metadata": {
    "scrolled": false
   },
   "outputs": [
    {
     "data": {
      "image/png": "[encoded data removed]",
      "text/plain": [
       "<Figure size 1080x576 with 1 Axes>"
      ]
     },
     "metadata": {
      "needs_background": "light"
     },
     "output_type": "display_data"
    }
   ],
   "source": [
    "plt.figure(figsize=(15,8))\n",
    "sns.barplot(y=result_series_fourg[0:15].index, x=result_series_fourg[0:15].values,color='blue')\n",
    "plt.title(\"Частотность четыреграмм\")\n",
    "plt.show()"
   ]
  },
  {
   "cell_type": "markdown",
   "id": "ec0bcfe4",
   "metadata": {},
   "source": [
    "#### Entities (географические регионы)"
   ]
  },
  {
   "cell_type": "markdown",
   "id": "fa1a400e",
   "metadata": {},
   "source": [
    "В данном случае придется использовать необработанный текст, так как сущности плохо находятся, если они не в верхнем регистре."
   ]
  },
  {
   "cell_type": "code",
   "execution_count": 22,
   "id": "17c2315a",
   "metadata": {},
   "outputs": [
    {
     "name": "stdout",
     "output_type": "stream",
     "text": [
      "Wall time: 166 ms\n"
     ]
    }
   ],
   "source": [
    "%%time\n",
    "#doc = docx.Document(\"C:\\\\Users\\\\Admin\\\\OneDrive\\\\PET Projects (06-12)\\\\Тихий Дон\\\\Тихий_дон отрывок.docx\")\n",
    "doc = docx.Document(\"C:\\\\Users\\\\Admin\\\\OneDrive\\\\PET Projects (06-12)\\\\Тихий Дон\\\\Tihij_don_full.docx\")"
   ]
  },
  {
   "cell_type": "code",
   "execution_count": 23,
   "id": "64075eae",
   "metadata": {},
   "outputs": [],
   "source": [
    "all_paras = doc.paragraphs\n",
    "len(all_paras)\n",
    "fullText = []\n",
    "for para in doc.paragraphs:\n",
    "    fullText.append(para.text)\n",
    "df1=pd.Series(fullText)"
   ]
  },
  {
   "cell_type": "markdown",
   "id": "e932c161",
   "metadata": {},
   "source": [
    "<b>Обработаем дефект импорта датасета</b>"
   ]
  },
  {
   "cell_type": "code",
   "execution_count": 24,
   "id": "801116b6",
   "metadata": {},
   "outputs": [],
   "source": [
    "df1=df1.replace('\\xa0', ' ')"
   ]
  },
  {
   "cell_type": "code",
   "execution_count": 25,
   "id": "806945ae",
   "metadata": {},
   "outputs": [],
   "source": [
    "corpus = df1.values.astype('U')"
   ]
  },
  {
   "cell_type": "code",
   "execution_count": 26,
   "id": "38c4f18f",
   "metadata": {},
   "outputs": [],
   "source": [
    "#Функция для очистки текста\n",
    "def clear_text(text):\n",
    "    return \" \".join(re.sub(r'[^a-zA-Zа-яА-я0-9 ]', ' ', text).split())  \n",
    "\n",
    "#Функция для лемматизации токена\n",
    "def lemmatize(text): \n",
    "    return \"\".join(m.lemmatize(text))"
   ]
  },
  {
   "cell_type": "code",
   "execution_count": 27,
   "id": "197e179d",
   "metadata": {},
   "outputs": [
    {
     "data": {
      "text/plain": [
       "{'Берлин', 'Москва'}"
      ]
     },
     "execution_count": 27,
     "metadata": {},
     "output_type": "execute_result"
    }
   ],
   "source": [
    "#Проверим работу библиотеки для поиска локаций'\n",
    "text='Сергей приехал в Берлин, затем купил фруктовый сок. Татьяна позвонила Антону Павловичу.В Москве было холодно'\n",
    "doc=nlp(text)\n",
    "location=set()\n",
    "for ent in doc.ents:\n",
    "    if ent.label_ =='LOC':\n",
    "        location.add(ent.lemma_.capitalize())\n",
    "location"
   ]
  },
  {
   "cell_type": "code",
   "execution_count": 28,
   "id": "0fe6500a",
   "metadata": {},
   "outputs": [
    {
     "name": "stderr",
     "output_type": "stream",
     "text": [
      "100%|████████████████████████████████████████████████████████████████████████████| 20112/20112 [03:45<00:00, 89.29it/s]"
     ]
    },
    {
     "name": "stdout",
     "output_type": "stream",
     "text": [
      "Wall time: 3min 45s\n"
     ]
    },
    {
     "name": "stderr",
     "output_type": "stream",
     "text": [
      "\n"
     ]
    }
   ],
   "source": [
    "%%time\n",
    "location=list()\n",
    "for i in tqdm(range(len(corpus))):\n",
    "    doc=nlp(str(corpus[i]))\n",
    "    for ent in doc.ents:\n",
    "        if ent.label_ =='LOC':\n",
    "            location.append((ent.lemma_.capitalize()))"
   ]
  },
  {
   "cell_type": "code",
   "execution_count": 29,
   "id": "fa9b1504",
   "metadata": {},
   "outputs": [
    {
     "name": "stderr",
     "output_type": "stream",
     "text": [
      "100%|██████████████████████████████████████████████████████████████████████████████| 3644/3644 [49:03<00:00,  1.24it/s]\n"
     ]
    }
   ],
   "source": [
    "for i in tqdm(range(len(location))):\n",
    "    location[i]=(lemmatize(location[i])).capitalize()    \n"
   ]
  },
  {
   "cell_type": "code",
   "execution_count": 30,
   "id": "25572bfc",
   "metadata": {},
   "outputs": [
    {
     "name": "stderr",
     "output_type": "stream",
     "text": [
      "100%|██████████████████████████████████████████████████████████████████████████| 3644/3644 [00:00<00:00, 456730.93it/s]\n"
     ]
    }
   ],
   "source": [
    "for i in tqdm(range(len(location))):\n",
    "    location[i]=(clear_text(location[i]))"
   ]
  },
  {
   "cell_type": "code",
   "execution_count": 31,
   "id": "f7ef328b",
   "metadata": {},
   "outputs": [],
   "source": [
    "location_dict=Counter(location)\n",
    "#{k: v for k, v in sorted(location_dict.items(), key=lambda item: item[1],reverse=True)}"
   ]
  },
  {
   "cell_type": "markdown",
   "id": "fabfdd89",
   "metadata": {},
   "source": [
    "Вешенский, Вешка - это станица Вешенская, основное место действия Романа. Удалим эти 2 элемента и заменим на 1."
   ]
  },
  {
   "cell_type": "code",
   "execution_count": 32,
   "id": "6346c4c5",
   "metadata": {},
   "outputs": [],
   "source": [
    "vesh_count=location_dict['Вешенский']+location_dict['Вешка']\n",
    "vesh_count\n",
    "del location_dict['Вешенский']\n",
    "del location_dict['Вешка']\n",
    "location_dict.update({'Вешенская':vesh_count })"
   ]
  },
  {
   "cell_type": "markdown",
   "id": "ef122938",
   "metadata": {},
   "source": [
    "Удалим ошибочные имена из выдачи"
   ]
  },
  {
   "cell_type": "code",
   "execution_count": 33,
   "id": "ff2f6c2e",
   "metadata": {},
   "outputs": [],
   "source": [
    "items_to_delete=list(['Григорий','Ильич','Ильинична','Аксинья','Ставка','Дуняшка','Прохор','Наталья','Дарья','Аксиньин','Кошевой','Офицерский союз','Астахов','Пантелей прокофиевич'])\n",
    "items_to_delete\n",
    "\n",
    "for i in range(len(items_to_delete)):\n",
    "    del location_dict[items_to_delete[i]]\n",
    "\n",
    "location_dict={k: v for k, v in sorted(location_dict.items(), key=lambda item: item[1],reverse=True)}\n",
    "location_series = pd.Series(location_dict)"
   ]
  },
  {
   "cell_type": "code",
   "execution_count": 34,
   "id": "661281e8",
   "metadata": {},
   "outputs": [
    {
     "data": {
      "image/png": "[encoded data removed]",
      "text/plain": [
       "<Figure size 1080x576 with 1 Axes>"
      ]
     },
     "metadata": {
      "needs_background": "light"
     },
     "output_type": "display_data"
    }
   ],
   "source": [
    "plt.figure(figsize=(15,8))\n",
    "sns.barplot(y=location_series[0:20].index, x=location_series[0:20].values,color='blue')\n",
    "plt.title(\"Частотность употребления глаголов\")\n",
    "plt.show()\n"
   ]
  },
  {
   "cell_type": "markdown",
   "id": "2065929b",
   "metadata": {},
   "source": [
    "Как видим, основное действие связяно с рекой Дон, станицей Вешенская, станицами, хуторами и городами поблизости. Остальные крупные города были местомо действия исторических отсылок.\n",
    "В принципе можно отфильтровать общие места вроде России, Дона, Кубани - что по сути означало наименование широких географических областей."
   ]
  },
  {
   "cell_type": "markdown",
   "id": "bb63c747",
   "metadata": {},
   "source": [
    "#### Части речи (PoS)"
   ]
  },
  {
   "cell_type": "markdown",
   "id": "693cc871",
   "metadata": {},
   "source": [
    "Посмотрим наиболее частые глаголы (кроме исключенных в стоп - словах)"
   ]
  },
  {
   "cell_type": "code",
   "execution_count": 35,
   "id": "45f77480",
   "metadata": {},
   "outputs": [
    {
     "data": {
      "text/plain": [
       "(18982,)"
      ]
     },
     "execution_count": 35,
     "metadata": {},
     "output_type": "execute_result"
    }
   ],
   "source": [
    "#Используем эту ячейку чтобы не повторять лемматизацию постоянно\n",
    "corpus_df=pd.read_csv(\"C:\\\\Users\\\\Admin\\\\Python+ DS Practice\\\\Яндекс Новости\\\\df_tihij_don.csv\",encoding = 'cp1251',sep=',', error_bad_lines=False)\n",
    "#В конце текста идут сноски, не будем их брать\n",
    "corpus_df=corpus_df.loc[0:19719]\n",
    "#Удалим пропуски\n",
    "corpus_df=corpus_df.dropna()\n",
    "len(corpus_df)\n",
    "#Переведем корпус в np.array\n",
    "corpus=corpus_df.values.astype('U')\n",
    "corpus=corpus.reshape(18982,)\n",
    "#corpus.shape\n",
    "#Переведем корпус в np.array\n",
    "corpus=corpus_df.values.astype('U')\n",
    "corpus=corpus.reshape(18982,)\n",
    "corpus.shape"
   ]
  },
  {
   "cell_type": "code",
   "execution_count": 36,
   "id": "2a2cfa7c",
   "metadata": {},
   "outputs": [
    {
     "name": "stdout",
     "output_type": "stream",
     "text": [
      "151\n",
      "16\n",
      "167\n"
     ]
    }
   ],
   "source": [
    "stop_words = set(stopwords.words('russian'))\n",
    "print(len(stop_words))\n",
    "#Добавим в стоп слова слова полученные эмпирическим путем\n",
    "custom_stopwords = set(['это','весь','яя','ая','га','свой','спрашивать','становиться','отвечать','подходить','уходить','выходить','оставаться','разговор','ехать','приходить'])\n",
    "print(len(custom_stopwords))\n",
    "stop_words.update(custom_stopwords)\n",
    "#Проверим результат обновления множества\n",
    "print(len(stop_words))"
   ]
  },
  {
   "cell_type": "code",
   "execution_count": 37,
   "id": "09046919",
   "metadata": {},
   "outputs": [],
   "source": [
    "#Добавим имена главныъ героев в словарь.\n",
    "main_characters = set(['григорий','аксинья','пантелей','прокофиевич','иван','алексеевич','мирон','григорьевич','сергей','платонович','гришак','пантелевич','кошевой','мишка','мелехов','прохор','зыков','митька','коршунов','сашка','степан','астахов','наталья','петро','ильинична','дуняшка','бунчук','фомин','дарья','листницкий'])"
   ]
  },
  {
   "cell_type": "code",
   "execution_count": 38,
   "id": "5ffd1e52",
   "metadata": {},
   "outputs": [],
   "source": [
    "#В данной работе главные герои нас не интересуют, уберем их\n",
    "stop_words.update(main_characters)"
   ]
  },
  {
   "cell_type": "code",
   "execution_count": 39,
   "id": "67ff71c9",
   "metadata": {},
   "outputs": [],
   "source": [
    "#стоп слова из интернета вопрос спроный. Например убирая слово \"ваше\", мы теряем фразу \"ваше благородие\", т.е. часть авторского стиля. \n",
    "# В дальнейшем можно вернуться к этому моменту\n",
    "stopwords_from_internet_1=set([\"c\",\"а\",\"алло\",\"без\",\"белый\",\"близко\",\"более\",\"больше\",\"большой\",\"будем\",\"будет\",\"будете\",\"будешь\",\"будто\",\"буду\",\"будут\",\"будь\",\"бы\",\"бывает\",\"бывь\",\"был\",\"была\",\"были\",\"было\",\"быть\",\"в\",\"важная\",\"важное\",\"важные\",\"важный\",\"вам\",\"вами\",\"вас\",\"ваш\",\"ваша\",\"ваше\",\"ваши\",\"вверх\",\"вдали\",\"вдруг\",\"ведь\",\"везде\",\"вернуться\",\"весь\",\"вечер\",\"взгляд\",\"взять\",\"вид\",\"видел\",\"видеть\",\"вместе\",\"вне\",\"вниз\",\"внизу\",\"во\",\"вода\",\"война\",\"вокруг\",\"вон\",\"вообще\",\"вопрос\",\"восемнадцатый\",\"восемнадцать\",\"восемь\",\"восьмой\",\"вот\",\"впрочем\",\"времени\",\"время\",\"все\",\"все еще\",\"всегда\",\"всего\",\"всем\",\"всеми\",\"всему\",\"всех\",\"всею\",\"всю\",\"всюду\",\"вся\",\"всё\",\"второй\",\"вы\",\"выйти\",\"г\",\"где\",\"главный\",\"глаз\",\"говорил\",\"говорит\",\"говорить\",\"год\",\"года\",\"году\",\"голова\",\"голос\",\"город\",\"да\",\"давать\",\"давно\",\"даже\",\"далекий\",\"далеко\",\"дальше\",\"даром\",\"дать\",\"два\",\"двадцатый\",\"двадцать\",\"две\",\"двенадцатый\",\"двенадцать\",\"дверь\",\"двух\",\"девятнадцатый\",\"девятнадцать\",\"девятый\",\"девять\",\"действительно\",\"дел\",\"делал\",\"делать\",\"делаю\",\"дело\",\"день\",\"деньги\",\"десятый\",\"десять\",\"для\",\"до\",\"довольно\",\"долго\",\"должен\",\"должно\",\"должный\",\"дом\",\"дорога\",\"друг\",\"другая\",\"другие\",\"других\",\"друго\",\"другое\",\"другой\",\"думать\",\"душа\",\"е\",\"его\",\"ее\",\"ей\",\"ему\",\"если\",\"есть\",\"еще\",\"ещё\",\"ею\",\"её\",\"ж\",\"ждать\",\"же\",\"жена\",\"женщина\",\"жизнь\",\"жить\",\"за\",\"занят\",\"занята\",\"занято\",\"заняты\",\"затем\",\"зато\",\"зачем\",\"здесь\",\"земля\",\"знать\",\"значит\",\"значить\",\"и\",\"иди\",\"идти\",\"из\",\"или\",\"им\",\"имеет\",\"имел\",\"именно\",\"иметь\",\"ими\",\"имя\",\"иногда\",\"их\",\"к\",\"каждая\",\"каждое\",\"каждые\",\"каждый\",\"кажется\",\"казаться\",\"как\",\"какая\",\"какой\",\"кем\",\"книга\",\"когда\",\"кого\",\"ком\",\"комната\",\"кому\",\"конец\",\"конечно\",\"которая\",\"которого\",\"которой\",\"которые\",\"который\",\"которых\",\"кроме\",\"кругом\",\"кто\",\"куда\",\"лежать\",\"лет\",\"ли\",\"лицо\",\"лишь\",\"лучше\",\"любить\",\"люди\",\"м\",\"маленький\",\"мало\",\"мать\",\"машина\",\"между\",\"меля\",\"менее\",\"меньше\",\"меня\",\"место\",\"миллионов\",\"мимо\",\"минута\",\"мир\",\"мира\",\"мне\",\"много\",\"многочисленная\",\"многочисленное\",\"многочисленные\",\"многочисленный\",\"мной\",\"мною\",\"мог\",\"могу\",\"могут\",\"мож\",\"может\",\"может быть\",\"можно\",\"можхо\",\"мои\",\"мой\",\"мор\",\"мочь\",\"моя\",\"моё\",\"мы\",\"на\",\"наверху\",\"над\",\"надо\",\"назад\",\"наиболее\",\"найти\",\"наконец\",\"нам\",\"нами\",\"народ\",\"нас\",\"начала\",\"начать\",\"наш\",\"наша\",\"наше\",\"наши\",\"не\",\"него\",\"недавно\",\"недалеко\",\"нее\",\"ней\",\"некоторый\",\"нельзя\",\"нем\",\"немного\",\"нему\",\"непрерывно\",\"нередко\",\"несколько\",\"нет\",\"нею\",\"неё\",\"ни\",\"нибудь\",\"ниже\",\"низко\",\"никакой\",\"никогда\",\"никто\",\"никуда\",\"ним\",\"ними\",\"них\",\"ничего\",\"ничто\",\"но\",\"новый\",\"нога\",\"ночь\",\"ну\",\"нужно\",\"нужный\",\"нх\",\"о\",\"об\",\"оба\",\"обычно\",\"один\",\"одиннадцатый\",\"одиннадцать\",\"однажды\",\"однако\",\"одного\",\"одной\",\"оказаться\",\"окно\",\"около\",\"он\",\"она\",\"они\",\"оно\",\"опять\",\"особенно\",\"остаться\",\"от\",\"ответить\",\"отец\",\"откуда\",\"отовсюду\",\"отсюда\",\"очень\",\"первый\",\"перед\",\"писать\",\"плечо\",\"по\",\"под\",\"подойди\",\"подумать\",\"пожалуйста\",\"позже\",\"пойти\",\"пока\",\"пол\",\"получить\",\"помнить\",\"понимать\",\"понять\",\"пор\",\"пора\",\"после\",\"последний\",\"посмотреть\",\"посреди\",\"потом\",\"потому\",\"почему\",\"почти\",\"правда\",\"прекрасно\",\"при\",\"про\",\"просто\",\"против\",\"процентов\",\"путь\",\"пятнадцатый\",\"пятнадцать\",\"пятый\",\"пять\",\"работа\",\"работать\",\"раз\",\"разве\",\"рано\",\"раньше\",\"ребенок\",\"решить\",\"россия\",\"рука\",\"русский\",\"ряд\",\"рядом\",\"с\",\"с кем\",\"сам\",\"сама\",\"сами\",\"самим\",\"самими\",\"самих\",\"само\",\"самого\",\"самой\",\"самом\",\"самому\",\"саму\",\"самый\",\"свет\",\"свое\",\"своего\",\"своей\",\"свои\",\"своих\",\"свой\",\"свою\",\"сделать\",\"сеаой\",\"себе\",\"себя\",\"сегодня\",\"седьмой\",\"сейчас\",\"семнадцатый\",\"семнадцать\",\"семь\",\"сидеть\",\"сила\",\"сих\",\"сказал\",\"сказала\",\"сказать\",\"сколько\",\"слишком\",\"слово\",\"случай\",\"смотреть\",\"сначала\",\"снова\",\"со\",\"собой\",\"собою\",\"советский\",\"совсем\",\"спасибо\",\"спросить\",\"сразу\",\"стал\",\"старый\",\"стать\",\"стол\",\"сторона\",\"стоять\",\"страна\",\"суть\",\"считать\",\"т\",\"та\",\"так\",\"такая\",\"также\",\"таки\",\"такие\",\"такое\",\"такой\",\"там\",\"твои\",\"твой\",\"твоя\",\"твоё\",\"те\",\"тебе\",\"тебя\",\"тем\",\"теми\",\"теперь\",\"тех\",\"то\",\"тобой\",\"тобою\",\"товарищ\",\"тогда\",\"того\",\"тоже\",\"только\",\"том\",\"тому\",\"тот\",\"тою\",\"третий\",\"три\",\"тринадцатый\",\"тринадцать\",\"ту\",\"туда\",\"тут\",\"ты\",\"тысяч\",\"у\",\"увидеть\",\"уж\",\"уже\",\"улица\",\"уметь\",\"утро\",\"хороший\",\"хорошо\",\"хотел бы\",\"хотеть\",\"хоть\",\"хотя\",\"хочешь\",\"час\",\"часто\",\"часть\",\"чаще\",\"чего\",\"человек\",\"чем\",\"чему\",\"через\",\"четвертый\",\"четыре\",\"четырнадцатый\",\"четырнадцать\",\"что\",\"чтоб\",\"чтобы\",\"чуть\",\"шестнадцатый\",\"шестнадцать\",\"шестой\",\"шесть\",\"эта\",\"эти\",\"этим\",\"этими\",\"этих\",\"это\",\"этого\",\"этой\",\"этом\",\"этому\",\"этот\",\"эту\",\"я\",\"являюсь\"])\n",
    "stop_words.update(stopwords_from_internet_1)"
   ]
  },
  {
   "cell_type": "code",
   "execution_count": 40,
   "id": "549306b6",
   "metadata": {},
   "outputs": [
    {
     "name": "stderr",
     "output_type": "stream",
     "text": [
      "C:\\Users\\Admin\\anaconda3\\lib\\site-packages\\sklearn\\feature_extraction\\text.py:388: UserWarning: Your stop_words may be inconsistent with your preprocessing. Tokenizing the stop words generated tokens ['хотел'] not in stop_words.\n",
      "  warnings.warn('Your stop_words may be inconsistent with '\n"
     ]
    },
    {
     "name": "stdout",
     "output_type": "stream",
     "text": [
      "Размер мешка без учёта стоп-слов: (18982, 26062)\n"
     ]
    }
   ],
   "source": [
    "count_vect = CountVectorizer(stop_words=stop_words) \n",
    "bow = count_vect.fit_transform(corpus) \n",
    "\n",
    "print(\"Размер мешка без учёта стоп-слов:\", bow.shape)\n",
    "#count_vect.get_feature_names() \n",
    "word_list=count_vect.get_feature_names() \n",
    "count_list = bow.toarray().sum(axis=0)\n",
    "x = dict(zip(word_list,count_list))\n",
    "{k: v for k, v in sorted(x.items(), key=lambda item: item[1],reverse=True)}\n",
    "g={k: v for k, v in sorted(x.items(), key=lambda item: item[1],reverse=True)}\n",
    "result_series = pd.Series(g)\n",
    "dict_for_test=result_series.to_dict()"
   ]
  },
  {
   "cell_type": "code",
   "execution_count": 41,
   "id": "228e2dfc",
   "metadata": {},
   "outputs": [
    {
     "name": "stderr",
     "output_type": "stream",
     "text": [
      "100%|███████████████████████████████████████████████████████████████████████████| 26062/26062 [01:33<00:00, 279.47it/s]\n"
     ]
    }
   ],
   "source": [
    "verb_series=dict()\n",
    "for i in tqdm(dict_for_test.keys()):\n",
    "    doc=nlp(i)\n",
    "    for token in doc:\n",
    "        if token.pos_ =='VERB':\n",
    "            verb_series.update({i:dict_for_test[i]})"
   ]
  },
  {
   "cell_type": "code",
   "execution_count": 42,
   "id": "efdcc399",
   "metadata": {},
   "outputs": [],
   "source": [
    "verb_series\n",
    "#Сортируем по убыванию частотности\n",
    "verb_dict={k: v for k, v in sorted(verb_series.items(), key=lambda item: item[1],reverse=True)}\n",
    "verb_pd_series = pd.Series(verb_dict)\n"
   ]
  },
  {
   "cell_type": "code",
   "execution_count": 49,
   "id": "f0d73aa4",
   "metadata": {},
   "outputs": [
    {
     "data": {
      "image/png": "[encoded data removed]",
      "text/plain": [
       "<Figure size 1080x576 with 1 Axes>"
      ]
     },
     "metadata": {
      "needs_background": "light"
     },
     "output_type": "display_data"
    }
   ],
   "source": [
    "plt.figure(figsize=(15,8))\n",
    "sns.barplot(y=verb_pd_series[0:20].index, x=verb_pd_series[0:20].values,color='blue')\n",
    "plt.title(\"Частотность употребления глаголов\")\n",
    "plt.show()\n"
   ]
  },
  {
   "cell_type": "code",
   "execution_count": 44,
   "id": "c59a409f",
   "metadata": {},
   "outputs": [],
   "source": [
    "#Можно обновить список стоп-слов - приезжать, поехать, входить,спать,начинать, нету.\n",
    "#Можно оставить пока так до сравнения с другими книгами"
   ]
  },
  {
   "cell_type": "code",
   "execution_count": null,
   "id": "b6fda4e0",
   "metadata": {},
   "outputs": [],
   "source": []
  },
  {
   "cell_type": "code",
   "execution_count": 53,
   "id": "1fcc06f0",
   "metadata": {},
   "outputs": [],
   "source": [
    "verbs_to_delete=list(['приезжать','поехать','входить','спать','начинать','нету','ходить','проходить'])\n",
    "verbs_to_delete\n",
    "\n",
    "for i in range(len(verbs_to_delete)):\n",
    "    try:\n",
    "        del verb_dict[verbs_to_delete[i]] \n",
    "    except:\n",
    "        pass"
   ]
  },
  {
   "cell_type": "code",
   "execution_count": 54,
   "id": "36a199c9",
   "metadata": {},
   "outputs": [
    {
     "data": {
      "image/png": "[encoded data removed]",
      "text/plain": [
       "<Figure size 1080x576 with 1 Axes>"
      ]
     },
     "metadata": {
      "needs_background": "light"
     },
     "output_type": "display_data"
    }
   ],
   "source": [
    "plt.figure(figsize=(15,8))\n",
    "sns.barplot(y=verb_pd_series[0:20].index, x=verb_pd_series[0:20].values,color='blue')\n",
    "plt.title(\"Частотность употребления глаголов\")\n",
    "plt.show()"
   ]
  },
  {
   "cell_type": "markdown",
   "id": "86e992e7",
   "metadata": {},
   "source": [
    "#### Выводы"
   ]
  },
  {
   "cell_type": "markdown",
   "id": "f56b8466",
   "metadata": {},
   "source": [
    "1.В данной работе были исследованы инструменты для выполнения актуальных задач для NLP - POS-тэггинг, NER.<br>\n",
    "2.Требуется объемная ручная обработка, так как библиотека spacy не всегда верно распознает географические точки, вставляя в них имена героев. Поэтому без знания книги, текст не обработать автоматически. С другой стороны, книге около 100 лет, и то что добавляются лишние сущности лучше чем если бы они пропускались вовсе.<br>\n",
    "3.В дальнейшем можно сравнить данный анализ с анализом по книге Шолохова \"Донские рассказы\" и найти схожести в описании, чтобы ответить на вопрос об авторстве книг."
   ]
  }
 ],
 "metadata": {
  "kernelspec": {
   "display_name": "Python 3",
   "language": "python",
   "name": "python3"
  },
  "language_info": {
   "codemirror_mode": {
    "name": "ipython",
    "version": 3
   },
   "file_extension": ".py",
   "mimetype": "text/x-python",
   "name": "python",
   "nbconvert_exporter": "python",
   "pygments_lexer": "ipython3",
   "version": "3.8.8"
  },
  "toc": {
   "base_numbering": 1,
   "nav_menu": {},
   "number_sections": true,
   "sideBar": true,
   "skip_h1_title": false,
   "title_cell": "Содержание",
   "title_sidebar": "Содержание",
   "toc_cell": true,
   "toc_position": {
    "height": "calc(100% - 180px)",
    "left": "10px",
    "top": "150px",
    "width": "256px"
   },
   "toc_section_display": true,
   "toc_window_display": true
  }
 },
 "nbformat": 4,
 "nbformat_minor": 5
}
